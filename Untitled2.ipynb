{
 "cells": [
  {
   "cell_type": "code",
   "execution_count": 38,
   "metadata": {},
   "outputs": [
    {
     "ename": "UFuncTypeError",
     "evalue": "ufunc 'add' did not contain a loop with signature matching types (dtype('<U8'), dtype('<U8')) -> dtype('<U8')",
     "output_type": "error",
     "traceback": [
      "\u001b[0;31m---------------------------------------------------------------------------\u001b[0m",
      "\u001b[0;31mUFuncTypeError\u001b[0m                            Traceback (most recent call last)",
      "\u001b[0;32m<ipython-input-38-d412790715cc>\u001b[0m in \u001b[0;36m<module>\u001b[0;34m\u001b[0m\n\u001b[1;32m      6\u001b[0m \u001b[0;34m\u001b[0m\u001b[0m\n\u001b[1;32m      7\u001b[0m \u001b[0;34m\u001b[0m\u001b[0m\n\u001b[0;32m----> 8\u001b[0;31m \u001b[0mprint\u001b[0m\u001b[0;34m(\u001b[0m\u001b[0;34m\"jenter vetleguten har pult\"\u001b[0m\u001b[0;34m,\u001b[0m\u001b[0mfolk\u001b[0m\u001b[0;34m+\u001b[0m\u001b[0mretards\u001b[0m\u001b[0;34m)\u001b[0m\u001b[0;34m\u001b[0m\u001b[0;34m\u001b[0m\u001b[0m\n\u001b[0m\u001b[1;32m      9\u001b[0m \u001b[0;34m\u001b[0m\u001b[0m\n",
      "\u001b[0;31mUFuncTypeError\u001b[0m: ufunc 'add' did not contain a loop with signature matching types (dtype('<U8'), dtype('<U8')) -> dtype('<U8')"
     ]
    }
   ],
   "source": [
    "from pylab import *\n",
    "klaus = [\"frøya\", \"emmeline\", \"mari\"]\n",
    "folk = array(klaus)\n",
    "personer = (1, 2, 3)\n",
    "retards = [\"sara\", \"emine\", \"nora\",\"amanda\"]\n",
    "\n",
    "\n",
    "print(\"jenter vetleguten har pult\",)\n",
    "\n"
   ]
  },
  {
   "cell_type": "code",
   "execution_count": 16,
   "metadata": {},
   "outputs": [
    {
     "name": "stdout",
     "output_type": "stream",
     "text": [
      "  _____ _____\n",
      " / ___   ___ \\\n",
      "/ / @ \\ / @ \\ \\\n",
      "\\ \\___/ \\___/ /\n",
      " \\____\\ /____/\n",
      " /      /\\\\\\\\\\\n",
      "|       |\\\\\\\\\\\\\n",
      " \\       \\\\\\\\\\\\\n",
      "  \\____ ___/\\\\\\\n",
      "    _|| _||_\n"
     ]
    }
   ],
   "source": [
    "tuples = [('  _____', '_____'), (' / ___ ', ' ___ \\\\'), ('/ / @ \\\\', '/ @ \\\\ \\\\'), ('\\\\ \\\\___/', '\\\\___/ /'), (' \\\\____\\\\', '/____/'), (' /     ', '/\\\\\\\\\\\\\\\\\\\\'), ('|      ', '|\\\\\\\\\\\\\\\\\\\\\\\\'), (' \\\\     ', ' \\\\\\\\\\\\\\\\\\\\\\\\'), ('  \\\\____', '___/\\\\\\\\\\\\'), ('    _||', '_||_')]\n",
    "\n",
    "for i in range(len(tuples)):\n",
    "    venstre = tuples[i][0]\n",
    "    hoyre = tuples[i][1]\n",
    "    print(venstre,hoyre)\n",
    "\n",
    "    "
   ]
  },
  {
   "cell_type": "code",
   "execution_count": 35,
   "metadata": {},
   "outputs": [
    {
     "name": "stdout",
     "output_type": "stream",
     "text": [
      "[   0.   20.   40.   60.   80.  100.  120.  140.  160.  180.  200.  220.\n",
      "  240.  260.  280.  300.  320.  340.  360.  380.  400.  420.  440.  460.\n",
      "  480.  500.  520.  540.  560.  580.  600.  620.  640.  660.  680.  700.\n",
      "  720.  740.  760.  780.  800.  820.  840.  860.  880.  900.  920.  940.\n",
      "  960.  980. 1000. 1020. 1040. 1060. 1080. 1100. 1120. 1140. 1160. 1180.\n",
      " 1200. 1220. 1240. 1260. 1280. 1300. 1320. 1340. 1360. 1380. 1400. 1420.\n",
      " 1440. 1460. 1480. 1500. 1520. 1540. 1560. 1580. 1600. 1620. 1640. 1660.\n",
      " 1680. 1700. 1720. 1740. 1760. 1780. 1800. 1820. 1840. 1860. 1880. 1900.\n",
      " 1920. 1940. 1960. 1980. 2000.]\n"
     ]
    }
   ],
   "source": [
    "from pylab import *\n",
    "array1 = linspace(0, 1000, 101)\n",
    "array = linspace(0, 1000,101 )\n",
    "\n",
    "print(array1+array)"
   ]
  },
  {
   "cell_type": "code",
   "execution_count": null,
   "metadata": {},
   "outputs": [],
   "source": []
  }
 ],
 "metadata": {
  "kernelspec": {
   "display_name": "Python 3",
   "language": "python",
   "name": "python3"
  },
  "language_info": {
   "codemirror_mode": {
    "name": "ipython",
    "version": 3
   },
   "file_extension": ".py",
   "mimetype": "text/x-python",
   "name": "python",
   "nbconvert_exporter": "python",
   "pygments_lexer": "ipython3",
   "version": "3.7.4"
  }
 },
 "nbformat": 4,
 "nbformat_minor": 2
}
