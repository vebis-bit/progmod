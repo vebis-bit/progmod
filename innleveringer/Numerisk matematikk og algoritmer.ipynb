{
 "cells": [
  {
   "cell_type": "markdown",
   "metadata": {},
   "source": [
    "# Numersik matematikk og algoritmer\n",
    "\n",
    "### definisjon: Numerisk matematikk er en del av matematikken som handler om å lage algoritmer for tilnærme matematiske problemer med minst mulig feil.\n",
    "\n",
    "* Vi får stort sett en feil når vi arbeider numerisk.\n",
    "\n",
    "## Hva skal vi se på:\n",
    "* derivasjon (og integrasjon)\n",
    "* løsing av ligninger\n",
    "* løsing av differensiallikninger\n",
    "\n",
    "## algoritmer\n",
    "definisjon: En algoritme er en presis beskrivelse av en serie operasjoner som skal utføres for å oppnå et visst resultat.\n",
    "### eksempler:\n",
    "* datamaskiner\n",
    "* matematikk\n",
    "* sosiale strukturer\n",
    "* hjernen vår"
   ]
  },
  {
   "cell_type": "markdown",
   "metadata": {},
   "source": [
    "## Lekse\n",
    "### program som finner alle primtall mellom 1 og n\n",
    "1. lag ei liste av påfølgende heltall fra 2 til 100\n",
    "2. la p være 2 det første primtallet\n",
    "3. fjern alle multipler til p som er større eller lik $p^2$\n",
    "4. sett p lik det neste tallet som ikke er krysset over, det er det neste primtallet\n",
    "5. gjenta trinn 3 og 4 til $p^2$ er større enn 100\n"
   ]
  },
  {
   "cell_type": "code",
   "execution_count": 27,
   "metadata": {},
   "outputs": [
    {
     "ename": "KeyboardInterrupt",
     "evalue": "",
     "output_type": "error",
     "traceback": [
      "\u001b[0;31m---------------------------------------------------------------------------\u001b[0m",
      "\u001b[0;31mKeyboardInterrupt\u001b[0m                         Traceback (most recent call last)",
      "\u001b[0;32m<ipython-input-27-934b0147a2d3>\u001b[0m in \u001b[0;36m<module>\u001b[0;34m\u001b[0m\n\u001b[1;32m      9\u001b[0m     \u001b[0;32mfor\u001b[0m \u001b[0mi\u001b[0m \u001b[0;32min\u001b[0m \u001b[0mR\u001b[0m\u001b[0;34m:\u001b[0m\u001b[0;34m\u001b[0m\u001b[0;34m\u001b[0m\u001b[0m\n\u001b[1;32m     10\u001b[0m         \u001b[0;32mif\u001b[0m \u001b[0mi\u001b[0m\u001b[0;34m%\u001b[0m\u001b[0mp\u001b[0m \u001b[0;34m==\u001b[0m \u001b[0;36m0\u001b[0m \u001b[0;32mand\u001b[0m \u001b[0mi\u001b[0m \u001b[0;34m>=\u001b[0m \u001b[0mp\u001b[0m\u001b[0;34m**\u001b[0m\u001b[0;36m2\u001b[0m\u001b[0;34m:\u001b[0m\u001b[0;34m\u001b[0m\u001b[0;34m\u001b[0m\u001b[0m\n\u001b[0;32m---> 11\u001b[0;31m             \u001b[0mR\u001b[0m\u001b[0;34m.\u001b[0m\u001b[0mremove\u001b[0m\u001b[0;34m(\u001b[0m\u001b[0mi\u001b[0m\u001b[0;34m)\u001b[0m\u001b[0;34m\u001b[0m\u001b[0;34m\u001b[0m\u001b[0m\n\u001b[0m\u001b[1;32m     12\u001b[0m     \u001b[0mr\u001b[0m\u001b[0;34m+=\u001b[0m\u001b[0;36m1\u001b[0m\u001b[0;34m\u001b[0m\u001b[0;34m\u001b[0m\u001b[0m\n\u001b[1;32m     13\u001b[0m \u001b[0mprint\u001b[0m\u001b[0;34m(\u001b[0m\u001b[0mR\u001b[0m\u001b[0;34m)\u001b[0m\u001b[0;34m\u001b[0m\u001b[0;34m\u001b[0m\u001b[0m\n",
      "\u001b[0;31mKeyboardInterrupt\u001b[0m: "
     ]
    }
   ],
   "source": [
    "from pylab import *\n",
    "\n",
    "n = 1000000\n",
    "R = list(linspace(2, n, n-1))\n",
    "r = 0\n",
    "p = R[r]\n",
    "while p**2 < n:\n",
    "    p = R[r]\n",
    "    for i in R:\n",
    "        if i%p == 0 and i >= p**2:\n",
    "            R.remove(i)\n",
    "    r+=1\n",
    "print(R)\n",
    "    \n"
   ]
  },
  {
   "cell_type": "markdown",
   "metadata": {},
   "source": [
    "## algoritme for å finne kvadratroten"
   ]
  },
  {
   "cell_type": "code",
   "execution_count": 25,
   "metadata": {},
   "outputs": [
    {
     "name": "stdout",
     "output_type": "stream",
     "text": [
      "numerisk 7.0710678118654755 antalytisk 7.0710678118654755\n"
     ]
    }
   ],
   "source": [
    "from math import sqrt\n",
    "def kvadratrot(a, x0, N):\n",
    "    \"\"\"\n",
    "    a: det vi skal ha kvadratroten av\n",
    "    x0: satrtgjett\n",
    "    N: antall iterasjoner\n",
    "    \"\"\"\n",
    "    x = x0    \n",
    "    for i in range(N):\n",
    "        x = 0.5*(x + a/x)\n",
    "    return x\n",
    "\n",
    "rot = kvadratrot(50,100,10)\n",
    "\n",
    "print(\"numerisk\", rot, \"antalytisk\", sqrt(50))"
   ]
  },
  {
   "cell_type": "markdown",
   "metadata": {},
   "source": [
    "## likninger og algoritmer\n",
    "### Halveringsmetoden\n",
    "\n",
    "$a$ =\n",
    "\n",
    "$b$ = \n",
    "\n",
    "$m$ = $(a + b)/ 2$\n",
    "\n",
    "gjenta til f(m) = 0\n",
    "\n",
    "    hvis $f(b)*f(m) < 0$\n",
    "\n",
    "        a = m\n",
    "\n",
    "    hvis $f(a)*f(m) < 0$\n",
    "\n",
    "        b = m\n",
    "    m = (a+b)/2"
   ]
  },
  {
   "cell_type": "code",
   "execution_count": 21,
   "metadata": {},
   "outputs": [
    {
     "name": "stdout",
     "output_type": "stream",
     "text": [
      "nullpunktet var:  1.4067844332715163 og løkken kjørte:  997.0 ganger\n"
     ]
    }
   ],
   "source": [
    "from pylab import *\n",
    "\n",
    "def g(x):\n",
    "        return x**5 - x**4 + x - 3\n",
    "    \n",
    "def likningsløser(a, b, f, tol=1E-16): \n",
    "    m = (a+b)/2\n",
    "    teller = 0\n",
    "    while abs(f(m)) > tol:\n",
    "        if f(a)*f(m) < 0:\n",
    "            b = m\n",
    "        elif f(b)*f(m) < 0:\n",
    "            a = m\n",
    "        m = (a+b)/2\n",
    "        teller += 1\n",
    "    return m, i\n",
    "\n",
    "nullpunkt, antall = likningsløser(-10, 10, g)\n",
    "\n",
    "print(\"nullpunktet var: \", nullpunkt, \"og løkken kjørte: \", antall, \"ganger\")"
   ]
  },
  {
   "cell_type": "markdown",
   "metadata": {},
   "source": [
    "## halveringsmetoden"
   ]
  },
  {
   "cell_type": "code",
   "execution_count": 2,
   "metadata": {},
   "outputs": [],
   "source": [
    "def halveringsmetoden(f,a,b,N,tol=1E-10):\n",
    "    if f(a)*f(b) >= 0:\n",
    "        return None\n",
    "    an = a\n",
    "    bn = b\n",
    "    m = (an+bn)/2\n",
    "    i = 0\n",
    "    while abs(f(m)) >= tol and i <= 100:\n",
    "        if f(an)*f(m) < 0:\n",
    "            bn = m\n",
    "        elif f(bn)*f(m) < 0:\n",
    "            an = m\n",
    "        else:\n",
    "            return None\n",
    "        m = (an+bn)/2\n",
    "    return m\n",
    "\n",
    "nulpunkter = []\n",
    "antall_nulpunkter = 0"
   ]
  },
  {
   "cell_type": "markdown",
   "metadata": {},
   "source": [
    "### Newtons metode"
   ]
  },
  {
   "cell_type": "markdown",
   "metadata": {},
   "source": [
    "## Primtall algorithme\n"
   ]
  },
  {
   "cell_type": "code",
   "execution_count": 1,
   "metadata": {},
   "outputs": [
    {
     "name": "stdout",
     "output_type": "stream",
     "text": [
      "(1.4067844332715165, 14)\n"
     ]
    }
   ],
   "source": [
    "def f(x):\n",
    "    return x**5 - x**4 + x - 3\n",
    "\n",
    "def fder(x, dx=1E-8):\n",
    "    return (f(x+dx)-f(x))/dx\n",
    "\n",
    "def newton(x,f,fder, tol=1E-8):\n",
    "    teller = 0\n",
    "    while abs(f(x)) > tol and teller < 100:\n",
    "        x = x- f(x)/fder(x)\n",
    "        teller += 1\n",
    "    return x, teller\n",
    "\n",
    "\n",
    "\n",
    "print(newton(10, f, fder))"
   ]
  },
  {
   "cell_type": "code",
   "execution_count": 1,
   "metadata": {},
   "outputs": [
    {
     "ename": "KeyboardInterrupt",
     "evalue": "",
     "output_type": "error",
     "traceback": [
      "\u001b[0;31m---------------------------------------------------------------------------\u001b[0m",
      "\u001b[0;31mKeyboardInterrupt\u001b[0m                         Traceback (most recent call last)",
      "\u001b[0;32m<ipython-input-1-8def574ef59a>\u001b[0m in \u001b[0;36m<module>\u001b[0;34m\u001b[0m\n\u001b[1;32m     12\u001b[0m     \u001b[0;32mfor\u001b[0m \u001b[0mi\u001b[0m \u001b[0;32min\u001b[0m \u001b[0mR\u001b[0m\u001b[0;34m:\u001b[0m\u001b[0;34m\u001b[0m\u001b[0;34m\u001b[0m\u001b[0m\n\u001b[1;32m     13\u001b[0m         \u001b[0;32mif\u001b[0m \u001b[0mi\u001b[0m\u001b[0;34m%\u001b[0m\u001b[0mp\u001b[0m \u001b[0;34m==\u001b[0m \u001b[0;36m0\u001b[0m \u001b[0;32mand\u001b[0m \u001b[0mi\u001b[0m \u001b[0;34m>=\u001b[0m \u001b[0mp\u001b[0m\u001b[0;34m**\u001b[0m\u001b[0;36m2\u001b[0m\u001b[0;34m:\u001b[0m\u001b[0;34m\u001b[0m\u001b[0;34m\u001b[0m\u001b[0m\n\u001b[0;32m---> 14\u001b[0;31m             \u001b[0mR\u001b[0m\u001b[0;34m.\u001b[0m\u001b[0mremove\u001b[0m\u001b[0;34m(\u001b[0m\u001b[0mi\u001b[0m\u001b[0;34m)\u001b[0m\u001b[0;34m\u001b[0m\u001b[0;34m\u001b[0m\u001b[0m\n\u001b[0m\u001b[1;32m     15\u001b[0m \u001b[0;34m\u001b[0m\u001b[0m\n\u001b[1;32m     16\u001b[0m     \u001b[0mr\u001b[0m\u001b[0;34m+=\u001b[0m\u001b[0;36m1\u001b[0m\u001b[0;34m\u001b[0m\u001b[0;34m\u001b[0m\u001b[0m\n",
      "\u001b[0;31mKeyboardInterrupt\u001b[0m: "
     ]
    }
   ],
   "source": [
    "from pylab import linspace\n",
    "from PIL import Image\n",
    "import numpy as np\n",
    "\n",
    "w,h = 100,100\n",
    "n = w*h\n",
    "R = list(linspace(2, n, n-1))\n",
    "r = 0\n",
    "p = R[r]\n",
    "while p**2 < n:\n",
    "    p = R[r]\n",
    "    for i in R:\n",
    "        if i%p == 0 and i >= p**2:\n",
    "            R.remove(i)\n",
    "            \n",
    "    r+=1\n",
    "    print(r)\n",
    "print(R, r,len(R))\n",
    "\n",
    "\n",
    "data = np.zeros((h,w), dtype=np.uint8)\n",
    "\n",
    "for k in R:\n",
    "    x = int(k%w)\n",
    "    y = int(k/h)\n",
    "    data[y, x] = 255\n",
    "    \n",
    "\n",
    "img = Image.fromarray(data)\n",
    "img.show()"
   ]
  },
  {
   "cell_type": "code",
   "execution_count": 5,
   "metadata": {},
   "outputs": [
    {
     "name": "stdout",
     "output_type": "stream",
     "text": [
      "1\n",
      "2\n",
      "3\n",
      "4\n",
      "5\n",
      "6\n",
      "7\n",
      "8\n",
      "9\n",
      "10\n",
      "11\n",
      "12\n",
      "[2.0, 3.0, 5.0, 7.0, 11.0, 13.0, 17.0, 19.0, 23.0, 29.0, 31.0, 37.0, 41.0, 43.0, 47.0, 53.0, 59.0, 61.0, 67.0, 71.0, 73.0, 79.0, 83.0, 89.0, 97.0, 101.0, 103.0, 107.0, 109.0, 113.0, 127.0, 131.0, 137.0, 139.0, 149.0, 151.0, 157.0, 163.0, 167.0, 173.0, 179.0, 181.0, 191.0, 193.0, 197.0, 199.0, 211.0, 223.0, 227.0, 229.0, 233.0, 239.0, 241.0, 251.0, 257.0, 263.0, 269.0, 271.0, 277.0, 281.0, 283.0, 293.0, 307.0, 311.0, 313.0, 317.0, 331.0, 337.0, 347.0, 349.0, 353.0, 359.0, 367.0, 373.0, 379.0, 383.0, 389.0, 397.0, 401.0, 409.0, 419.0, 421.0, 431.0, 433.0, 439.0, 443.0, 449.0, 457.0, 461.0, 463.0, 467.0, 479.0, 487.0, 491.0, 499.0, 503.0, 509.0, 521.0, 523.0, 541.0, 547.0, 557.0, 563.0, 569.0, 571.0, 577.0, 587.0, 593.0, 599.0, 601.0, 607.0, 613.0, 617.0, 619.0, 631.0, 641.0, 643.0, 647.0, 653.0, 659.0, 661.0, 673.0, 677.0, 683.0, 691.0, 701.0, 709.0, 719.0, 727.0, 733.0, 739.0, 743.0, 751.0, 757.0, 761.0, 769.0, 773.0, 787.0, 797.0, 809.0, 811.0, 821.0, 823.0, 827.0, 829.0, 839.0, 853.0, 857.0, 859.0, 863.0, 877.0, 881.0, 883.0, 887.0, 907.0, 911.0, 919.0, 929.0, 937.0, 941.0, 947.0, 953.0, 967.0, 971.0, 977.0, 983.0, 991.0, 997.0] 12 \n",
      " Det er 168 mellom 0 og 1000\n"
     ]
    }
   ],
   "source": [
    "from pylab import linspace\n",
    "\n",
    "\n",
    "n = 1000\n",
    "R = list(linspace(2, n, n-1))\n",
    "r = 0\n",
    "p = R[r]\n",
    "while p**2 < n:\n",
    "    p = R[r]\n",
    "    for i in R:\n",
    "        if i%p == 0 and i >= p**2:\n",
    "            R.remove(i)\n",
    "            \n",
    "    r+=1\n",
    "    print(r)\n",
    "print(R, \"løkken kjørte\", r, \"ganger\",\"\\n\", \"Det er\", len(R), \"mellom 0 og\", n)\n"
   ]
  },
  {
   "cell_type": "code",
   "execution_count": null,
   "metadata": {},
   "outputs": [],
   "source": []
  }
 ],
 "metadata": {
  "kernelspec": {
   "display_name": "Python 3",
   "language": "python",
   "name": "python3"
  },
  "language_info": {
   "codemirror_mode": {
    "name": "ipython",
    "version": 3
   },
   "file_extension": ".py",
   "mimetype": "text/x-python",
   "name": "python",
   "nbconvert_exporter": "python",
   "pygments_lexer": "ipython3",
   "version": "3.7.4"
  }
 },
 "nbformat": 4,
 "nbformat_minor": 2
}
