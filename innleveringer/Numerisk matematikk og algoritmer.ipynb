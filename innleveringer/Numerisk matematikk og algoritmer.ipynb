{
 "cells": [
  {
   "cell_type": "markdown",
   "metadata": {},
   "source": [
    "# Numersik matematikk og algoritmer\n",
    "\n",
    "### definisjon: Numerisk matematikk er en del av matematikken som handler om å lage algoritmer for tilnærme matematiske problemer med minst mulig feil.\n",
    "\n",
    "* Vi får stort sett en feil når vi arbeider numerisk.\n",
    "\n",
    "## Hva skal vi se på:\n",
    "* derivasjon (og integrasjon)\n",
    "* løsing av ligninger\n",
    "* løsing av differensiallikninger\n",
    "\n",
    "## algoritmer\n",
    "definisjon: En algoritme er en presis beskrivelse av en serie operasjoner som skal utføres for å oppnå et visst resultat.\n",
    "### eksempler:\n",
    "* datamaskiner\n",
    "* matematikk\n",
    "* sosiale strukturer\n",
    "* hjernen vår"
   ]
  },
  {
   "cell_type": "markdown",
   "metadata": {},
   "source": [
    "## Lekse\n",
    "### program som finner alle primtall mellom 1 og n\n",
    "1. lag ei liste av påfølgende heltall fra 2 til 100\n",
    "2. la p være 2 det første primtallet\n",
    "3. fjern alle multipler til p som er større eller lik $p^2$\n",
    "4. sett p lik det neste tallet som ikke er krysset over, det er det neste primtallet\n",
    "5. gjenta trinn 3 og 4 til $p^2$ er større enn 100\n"
   ]
  },
  {
   "cell_type": "code",
   "execution_count": 27,
   "metadata": {},
   "outputs": [
    {
     "ename": "KeyboardInterrupt",
     "evalue": "",
     "output_type": "error",
     "traceback": [
      "\u001b[0;31m---------------------------------------------------------------------------\u001b[0m",
      "\u001b[0;31mKeyboardInterrupt\u001b[0m                         Traceback (most recent call last)",
      "\u001b[0;32m<ipython-input-27-934b0147a2d3>\u001b[0m in \u001b[0;36m<module>\u001b[0;34m\u001b[0m\n\u001b[1;32m      9\u001b[0m     \u001b[0;32mfor\u001b[0m \u001b[0mi\u001b[0m \u001b[0;32min\u001b[0m \u001b[0mR\u001b[0m\u001b[0;34m:\u001b[0m\u001b[0;34m\u001b[0m\u001b[0;34m\u001b[0m\u001b[0m\n\u001b[1;32m     10\u001b[0m         \u001b[0;32mif\u001b[0m \u001b[0mi\u001b[0m\u001b[0;34m%\u001b[0m\u001b[0mp\u001b[0m \u001b[0;34m==\u001b[0m \u001b[0;36m0\u001b[0m \u001b[0;32mand\u001b[0m \u001b[0mi\u001b[0m \u001b[0;34m>=\u001b[0m \u001b[0mp\u001b[0m\u001b[0;34m**\u001b[0m\u001b[0;36m2\u001b[0m\u001b[0;34m:\u001b[0m\u001b[0;34m\u001b[0m\u001b[0;34m\u001b[0m\u001b[0m\n\u001b[0;32m---> 11\u001b[0;31m             \u001b[0mR\u001b[0m\u001b[0;34m.\u001b[0m\u001b[0mremove\u001b[0m\u001b[0;34m(\u001b[0m\u001b[0mi\u001b[0m\u001b[0;34m)\u001b[0m\u001b[0;34m\u001b[0m\u001b[0;34m\u001b[0m\u001b[0m\n\u001b[0m\u001b[1;32m     12\u001b[0m     \u001b[0mr\u001b[0m\u001b[0;34m+=\u001b[0m\u001b[0;36m1\u001b[0m\u001b[0;34m\u001b[0m\u001b[0;34m\u001b[0m\u001b[0m\n\u001b[1;32m     13\u001b[0m \u001b[0mprint\u001b[0m\u001b[0;34m(\u001b[0m\u001b[0mR\u001b[0m\u001b[0;34m)\u001b[0m\u001b[0;34m\u001b[0m\u001b[0;34m\u001b[0m\u001b[0m\n",
      "\u001b[0;31mKeyboardInterrupt\u001b[0m: "
     ]
    }
   ],
   "source": [
    "from pylab import *\n",
    "\n",
    "n = 1000000\n",
    "R = list(linspace(2, n, n-1))\n",
    "r = 0\n",
    "p = R[r]\n",
    "while p**2 < n:\n",
    "    p = R[r]\n",
    "    for i in R:\n",
    "        if i%p == 0 and i >= p**2:\n",
    "            R.remove(i)\n",
    "    r+=1\n",
    "print(R)\n",
    "    \n"
   ]
  },
  {
   "cell_type": "markdown",
   "metadata": {},
   "source": [
    "## algoritme for å finne kvadratroten"
   ]
  },
  {
   "cell_type": "code",
   "execution_count": 25,
   "metadata": {},
   "outputs": [
    {
     "name": "stdout",
     "output_type": "stream",
     "text": [
      "numerisk 7.0710678118654755 antalytisk 7.0710678118654755\n"
     ]
    }
   ],
   "source": [
    "from math import sqrt\n",
    "def kvadratrot(a, x0, N):\n",
    "    \"\"\"\n",
    "    a: det vi skal ha kvadratroten av\n",
    "    x0: satrtgjett\n",
    "    N: antall iterasjoner\n",
    "    \"\"\"\n",
    "    x = x0    \n",
    "    for i in range(N):\n",
    "        x = 0.5*(x + a/x)\n",
    "    return x\n",
    "\n",
    "rot = kvadratrot(50,100,10)\n",
    "\n",
    "print(\"numerisk\", rot, \"antalytisk\", sqrt(50))"
   ]
  },
  {
   "cell_type": "markdown",
   "metadata": {},
   "source": [
    "## likninger og algoritmer\n",
    "### Halveringsmetoden\n",
    "\n",
    "$a$ =\n",
    "\n",
    "$b$ = \n",
    "\n",
    "$m$ = $(a + b)/ 2$\n",
    "\n",
    "gjenta til f(m) = 0\n",
    "\n",
    "    hvis $f(b)*f(m) < 0$\n",
    "\n",
    "        a = m\n",
    "\n",
    "    hvis $f(a)*f(m) < 0$\n",
    "\n",
    "        b = m\n",
    "    m = (a+b)/2"
   ]
  },
  {
   "cell_type": "code",
   "execution_count": 21,
   "metadata": {},
   "outputs": [
    {
     "name": "stdout",
     "output_type": "stream",
     "text": [
      "nullpunktet var:  1.4067844332715163 og løkken kjørte:  997.0 ganger\n"
     ]
    }
   ],
   "source": [
    "from pylab import *\n",
    "\n",
    "def g(x):\n",
    "        return x**5 - x**4 + x - 3\n",
    "    \n",
    "def likningsløser(a, b, f, tol=1E-16): \n",
    "    m = (a+b)/2\n",
    "    teller = 0\n",
    "    while abs(f(m)) > tol:\n",
    "        if f(a)*f(m) < 0:\n",
    "            b = m\n",
    "        elif f(b)*f(m) < 0:\n",
    "            a = m\n",
    "        m = (a+b)/2\n",
    "        teller += 1\n",
    "    return m, i\n",
    "\n",
    "nullpunkt, antall = likningsløser(-10, 10, g)\n",
    "\n",
    "print(\"nullpunktet var: \", nullpunkt, \"og løkken kjørte: \", antall, \"ganger\")"
   ]
  },
  {
   "cell_type": "markdown",
   "metadata": {},
   "source": [
    "### Newtons metode"
   ]
  },
  {
   "cell_type": "code",
   "execution_count": 22,
   "metadata": {},
   "outputs": [
    {
     "name": "stdout",
     "output_type": "stream",
     "text": [
      "(1.4067844332715165, 14)\n"
     ]
    }
   ],
   "source": [
    "def f(x):\n",
    "    return x**5 - x**4 + x - 3\n",
    "\n",
    "def fder(x, dx=1E-8):\n",
    "    return (f(x+dx)-f(x))/dx\n",
    "\n",
    "def newton(x,f,fder, tol=1E-8):\n",
    "    teller = 0\n",
    "    while abs(f(x)) > tol and teller < 100:\n",
    "        x = x- f(x)/fder(x)\n",
    "        teller += 1\n",
    "    return x, teller\n",
    "\n",
    "\n",
    "\n",
    "print(newton(10, f, fder))"
   ]
  },
  {
   "cell_type": "code",
   "execution_count": null,
   "metadata": {},
   "outputs": [],
   "source": []
  },
  {
   "cell_type": "code",
   "execution_count": null,
   "metadata": {},
   "outputs": [],
   "source": []
  },
  {
   "cell_type": "code",
   "execution_count": null,
   "metadata": {},
   "outputs": [],
   "source": []
  }
 ],
 "metadata": {
  "kernelspec": {
   "display_name": "Python 3",
   "language": "python",
   "name": "python3"
  },
  "language_info": {
   "codemirror_mode": {
    "name": "ipython",
    "version": 3
   },
   "file_extension": ".py",
   "mimetype": "text/x-python",
   "name": "python",
   "nbconvert_exporter": "python",
   "pygments_lexer": "ipython3",
   "version": "3.7.4"
  }
 },
 "nbformat": 4,
 "nbformat_minor": 2
}
