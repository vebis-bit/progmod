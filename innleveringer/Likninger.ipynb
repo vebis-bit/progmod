{
 "cells": [
  {
   "cell_type": "markdown",
   "metadata": {},
   "source": [
    "# Likninger\n",
    "\n",
    "\n",
    "\n",
    "## Halveringsmetoden\n",
    "halveringsmetoden er en enkel løsningsmetode som finner én løsning for f(x) = 0. den kan løse vanskelige likninger, men bare få en løsning.\n"
   ]
  },
  {
   "cell_type": "code",
   "execution_count": 3,
   "metadata": {},
   "outputs": [
    {
     "name": "stdout",
     "output_type": "stream",
     "text": [
      "nullpunktet var:  1.4067844332715163 og løkken kjørte:  ganger\n"
     ]
    }
   ],
   "source": [
    "from pylab import *\n",
    "\n",
    "def g(x):\n",
    "        return x**5 - x**4 + x - 3\n",
    "    \n",
    "def likningsløser(a, b, f, tol=1E-16): \n",
    "    m = (a+b)/2\n",
    "    teller = 0\n",
    "    while abs(f(m)) > tol:\n",
    "        if f(a)*f(m) < 0:\n",
    "            b = m\n",
    "        elif f(b)*f(m) < 0:\n",
    "            a = m\n",
    "        m = (a+b)/2\n",
    "        teller += 1\n",
    "    return m\n",
    "\n",
    "nullpunkt= likningsløser(-10, 10, g)\n",
    "\n",
    "print(\"nullpunktet var: \", nullpunkt)"
   ]
  },
  {
   "cell_type": "markdown",
   "metadata": {},
   "source": [
    "## Newtons Metode\n",
    "newtons metode er en metode er en metode for likningsløsning"
   ]
  },
  {
   "cell_type": "code",
   "execution_count": 4,
   "metadata": {},
   "outputs": [
    {
     "name": "stdout",
     "output_type": "stream",
     "text": [
      "(1.4067844332715165, 14)\n"
     ]
    }
   ],
   "source": [
    "\n",
    "def f(x):\n",
    "    return x**5 - x**4 + x - 3\n",
    "\n",
    "def fder(x, dx=1E-8):\n",
    "    return (f(x+dx)-f(x))/dx\n",
    "\n",
    "def newton(x,f,fder, tol=1E-8):\n",
    "    teller = 0\n",
    "    while abs(f(x)) > tol and teller < 100:\n",
    "        x = x- f(x)/fder(x)\n",
    "        teller += 1\n",
    "    return x, teller\n",
    "\n",
    "\n",
    "\n",
    "print(newton(10, f, fder))"
   ]
  },
  {
   "cell_type": "markdown",
   "metadata": {},
   "source": [
    "## kanonforsøk"
   ]
  },
  {
   "cell_type": "code",
   "execution_count": 5,
   "metadata": {},
   "outputs": [
    {
     "name": "stdout",
     "output_type": "stream",
     "text": [
      "etter:  1.1340073188071937 s, kom ballen 19.41309090140359 m\n",
      "etter:  1.8348623853309842 s, kom ballen 28.60267388661259 m\n",
      "etter:  2.1570101001559316 s, kom ballen 31.41104090516201 m\n",
      "etter:  2.594887270409349 s, kom ballen 33.02752293577983 m\n"
     ]
    }
   ],
   "source": [
    "from math import *\n",
    "def f(x):\n",
    "    return x**5 - x**4 + x - 3\n",
    "\n",
    "def fder(x, dx=1E-8):\n",
    "    return (f(x+dx)-f(x))/dx\n",
    "\n",
    "def newton(f,fder,t, v0,theta, tol=1E-8):\n",
    "    teller = 0\n",
    "    while abs(y(t,theta,v0)) > tol and teller < 100:\n",
    "        t = t- y(t,theta,v0)/yder(t, theta, v0)\n",
    "        teller+=1\n",
    "    return t\n",
    "\n",
    "def y(t,theta,v0):\n",
    "    g = 9.81\n",
    "    return v0*sin(theta)*t - 0.5*g*t**2\n",
    "\n",
    "def yder(t, theta, v0):\n",
    "    g = 9.81\n",
    "    return v0*sin(theta) - g*t\n",
    "\n",
    "def x(t,v0, theta):\n",
    "    return v0*cos(theta)*t\n",
    "\n",
    "tid = newton(y,yder,10, 18, pi/10)\n",
    "avstand = x(tid, 18, pi/10)\n",
    "print(\"etter: \",tid,\"s, kom ballen\", avstand, \"m\")\n",
    "tid = newton(y,yder,10, 18, pi/6)\n",
    "avstand = x(tid, 18, pi/6)\n",
    "print(\"etter: \",tid,\"s, kom ballen\", avstand, \"m\")\n",
    "tid = newton(y,yder,10, 18, pi/5)\n",
    "avstand = x(tid, 18, pi/5)\n",
    "print(\"etter: \",tid,\"s, kom ballen\", avstand, \"m\")\n",
    "tid = newton(y,yder,10, 18, pi/4)\n",
    "avstand = x(tid, 18, pi/4)\n",
    "print(\"etter: \",tid,\"s, kom ballen\", avstand, \"m\")\n",
    "tid = newton(y,yder,10, 18, pi/3)\n",
    "avstand = x(tid, 18, pi/3)"
   ]
  },
  {
   "cell_type": "code",
   "execution_count": null,
   "metadata": {},
   "outputs": [],
   "source": []
  }
 ],
 "metadata": {
  "kernelspec": {
   "display_name": "Python 3",
   "language": "python",
   "name": "python3"
  },
  "language_info": {
   "codemirror_mode": {
    "name": "ipython",
    "version": 3
   },
   "file_extension": ".py",
   "mimetype": "text/x-python",
   "name": "python",
   "nbconvert_exporter": "python",
   "pygments_lexer": "ipython3",
   "version": "3.7.4"
  }
 },
 "nbformat": 4,
 "nbformat_minor": 2
}
