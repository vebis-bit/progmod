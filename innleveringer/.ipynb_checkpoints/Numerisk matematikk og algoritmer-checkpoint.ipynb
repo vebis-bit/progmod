{
 "cells": [
  {
   "cell_type": "markdown",
   "metadata": {},
   "source": [
    "# Numersik matematikk og algoritmer\n",
    "\n",
    "### definisjon: Numerisk matematikk er en del av matematikken som handler om å lage algoritmer for tilnærme matematiske problemer med minst mulig feil.\n",
    "\n",
    "* Vi får stort sett en feil når vi arbeider numerisk.\n",
    "\n",
    "## Hva skal vi se på:\n",
    "* derivasjon (og integrasjon)\n",
    "* løsing av ligninger\n",
    "* løsing av differensiallikninger\n",
    "\n",
    "## algoritmer\n",
    "definisjon: En algoritme er en presis beskrivelse av en serie operasjoner som skal utføres for å oppnå et visst resultat.\n",
    "### eksempler:\n",
    "* datamaskiner\n",
    "* matematikk\n",
    "* sosiale strukturer\n",
    "* hjernen vår"
   ]
  },
  {
   "cell_type": "markdown",
   "metadata": {},
   "source": [
    "## Lekse\n",
    "1. lag ei liste av påfølgende heltall fra 2 til 100\n",
    "2. la p være 2 det første primtallet\n",
    "3. fjern alle multipler til p som er større eller lik $p^2$\n",
    "4. sett p lik det neste tallet som ikke er krysset over, det er det neste primtallet\n",
    "5. gjenta trinn 3 og 4 til $p^2$ er større enn 100\n"
   ]
  },
  {
   "cell_type": "code",
   "execution_count": null,
   "metadata": {},
   "outputs": [],
   "source": [
    "from pylab import *\n",
    "\n",
    "R = linspace(2, 100, 99)\n",
    "PR = array([])\n",
    "print(R)\n",
    "p = 2\n",
    "for i in range(100):\n",
    "    if i/p = int:\n",
    "        PR.append(i)\n",
    "    \n",
    "    print(PR)\n",
    "\n",
    "\n",
    "\n",
    "\n",
    "\n",
    "\n",
    "#teller = 0\n",
    "#for i in R:\n",
    "    #p = int(R[teller])\n",
    "\n",
    "    #teller +=1\n",
    "\n",
    "    \n"
   ]
  },
  {
   "cell_type": "markdown",
   "metadata": {},
   "source": [
    "## Løsing av likninger"
   ]
  }
 ],
 "metadata": {
  "kernelspec": {
   "display_name": "Python 3",
   "language": "python",
   "name": "python3"
  },
  "language_info": {
   "codemirror_mode": {
    "name": "ipython",
    "version": 3
   },
   "file_extension": ".py",
   "mimetype": "text/x-python",
   "name": "python",
   "nbconvert_exporter": "python",
   "pygments_lexer": "ipython3",
   "version": "3.7.4"
  }
 },
 "nbformat": 4,
 "nbformat_minor": 2
}
