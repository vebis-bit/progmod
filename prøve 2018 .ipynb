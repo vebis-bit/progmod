{
 "cells": [
  {
   "cell_type": "code",
   "execution_count": 12,
   "metadata": {},
   "outputs": [
    {
     "name": "stdout",
     "output_type": "stream",
     "text": [
      "Mekanisk energi er ikke bevart. 60.0 joule har blitt tatt opp fra omgivelsene\n"
     ]
    }
   ],
   "source": [
    "def mekanisk_energi(m, v0, h0, v1, h1):\n",
    "    g = 9.8 # Tyngdeakselerasjon i m/s^2\n",
    "    E0 = m*g*h0 + 0.5*m*v0**2 # Mekanisk energi ved start (i joule) \n",
    "    E1 = m*g*h1 + 0.5*m*v1**2 # Mekanisk energi ved slutt (i joule) \n",
    "    E = E0-E1\n",
    "    if E > 0:\n",
    "        print(\"Mekanisk energi er ikke bevart.\",\n",
    "        E, \"joule har gått tapt til omgivelsene.\")\n",
    "    elif E < 0:\n",
    "        print(\"Mekanisk energi er ikke bevart.\", -E, \"joule har blitt tatt opp fra omgivelsene\") \n",
    "    else:\n",
    "        print(\"Mekanisk energi er bevart!\")\n",
    "mekanisk_energi(-1, 11, 1, 1, 1) # Kaller funksjonen "
   ]
  },
  {
   "cell_type": "code",
   "execution_count": null,
   "metadata": {},
   "outputs": [],
   "source": []
  }
 ],
 "metadata": {
  "kernelspec": {
   "display_name": "Python 3",
   "language": "python",
   "name": "python3"
  },
  "language_info": {
   "codemirror_mode": {
    "name": "ipython",
    "version": 3
   },
   "file_extension": ".py",
   "mimetype": "text/x-python",
   "name": "python",
   "nbconvert_exporter": "python",
   "pygments_lexer": "ipython3",
   "version": "3.7.4"
  }
 },
 "nbformat": 4,
 "nbformat_minor": 2
}
