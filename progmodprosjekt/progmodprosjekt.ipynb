{
 "cells": [
  {
   "cell_type": "markdown",
   "metadata": {
    "colab_type": "text",
    "id": "_2Od8lejwBo4"
   },
   "source": [
    "# Programmering og Modellering – oppgave 3"
   ]
  },
  {
   "cell_type": "markdown",
   "metadata": {
    "colab_type": "text",
    "id": "5qg2sfIj7YPN"
   },
   "source": [
    "Kreftene som virker mellom planeter i x og y retning kan utrykkes slik:\n",
    "\n",
    "$\\space$\n",
    "\n",
    "$$F_x = -\\frac{G \\cdot m_1 \\cdot m_2 \\cdot x(t)}{r^3}$$\n",
    "\n",
    "\n",
    "$$ = -\\frac{G \\cdot m_1 \\cdot m_2 \\cdot x(t)}{((x(t) - x_2(t))^2 + (y(t)-y_2(t))^2)^\\frac{3}{2})}$$\n",
    "\n",
    "\n",
    "$\\space$\n",
    "\n",
    "$$F_y = - \\frac{G \\cdot m_1 \\cdot m_2 \\cdot y(t)}{r^3}$$\n",
    "\n",
    "$$ = - \\frac{G \\cdot m_1 \\cdot m_2 \\cdot y(t)}{((x(t)-x_2(t))^2 + (y(t)-y_2(t))^2)^\\frac{3}{2})}$$\n",
    "\n",
    "\n",
    "$\\space$\n",
    "\n",
    "\n",
    "---\n",
    "\n"
   ]
  },
  {
   "cell_type": "markdown",
   "metadata": {
    "colab_type": "text",
    "id": "UUMT4lV7-qcE"
   },
   "source": [
    "## a) \n",
    "\n",
    "Dette er newtons universelle gravitasjonslov og den beregner kraften som virker på en planet, også kan vi bruke den til finne akselerasjon, som vi igjen kan bruke til å finne fart og posisjon ved hjelp av integrasjon og eulers metode.\n",
    "\n",
    "vi starter med ligningen over, så putter vi inn $ \\sum F = a \\cdot m$ vi setter $ a\\cdot m $ for $F$ siden vi har $m_1$ på begge sider trekker vi den ut. Da blir det slik: \n",
    "\n",
    "$$a_x(t) = - \\frac{G \\cdot m_2 \\cdot x(t)}{r^3}$$\n",
    "\n",
    "$$a_y(t) = - \\frac{G \\cdot m_2 \\cdot y(t)}{r^3}$$\n",
    "\n",
    "$\\space$\n",
    "\n",
    "\n",
    "\n",
    "---\n",
    "\n"
   ]
  },
  {
   "cell_type": "markdown",
   "metadata": {
    "colab_type": "text",
    "id": "qp-Jt5Uj5neY"
   },
   "source": [
    "#### hovedlikningene^\n"
   ]
  },
  {
   "cell_type": "markdown",
   "metadata": {
    "colab_type": "text",
    "id": "KSlg9ZcPrQKJ"
   },
   "source": [
    "## b)\n",
    "\n",
    "$$x'(t) = v_x(t)$$\n",
    "\n",
    "$$y'(t) = v_y(t)$$\n",
    "\n",
    "$$v'_x(t) = - \\frac{G \\cdot m_2 \\cdot x(t)}{r^3}$$\n",
    "\n",
    "$$v'_y(t) = - \\frac{G \\cdot m_2 \\cdot y(t)}{r^3}$$\n",
    "\n",
    "$\\space$\n",
    "\n",
    "\n",
    "\n",
    "---\n",
    "\n",
    "\n"
   ]
  },
  {
   "cell_type": "markdown",
   "metadata": {
    "colab_type": "text",
    "id": "bZxDtjkC5qos"
   },
   "source": [
    "#### bevis for farts likningene^"
   ]
  },
  {
   "cell_type": "markdown",
   "metadata": {
    "colab_type": "text",
    "id": "0CfGtV3ZsrFO"
   },
   "source": [
    "## c)"
   ]
  },
  {
   "cell_type": "markdown",
   "metadata": {
    "colab_type": "text",
    "id": "ZUisPRgz53W8"
   },
   "source": [
    "#### eulers metode (jorda)"
   ]
  },
  {
   "cell_type": "code",
   "execution_count": 8,
   "metadata": {
    "colab": {},
    "colab_type": "code",
    "id": "J5-hLioytDsN"
   },
   "outputs": [
    {
     "data": {
      "image/png": "[encoded data removed]",
      "text/plain": [
       "<Figure size 360x360 with 1 Axes>"
      ]
     },
     "metadata": {
      "needs_background": "light"
     },
     "output_type": "display_data"
    }
   ],
   "source": [
    "from pylab import *\n",
    "\n",
    "# variabler og konstanter \n",
    "G = 4*pi**2\n",
    "#r = 1.50 * 1E11 # AU astronomical unit\n",
    "m_1 = 3*1E-6\n",
    "m_2 = 1\n",
    "x0 = 1\n",
    "y0 = 0\n",
    "vx0 = 0\n",
    "vy0 = 2*pi\n",
    "\n",
    "x2 = 0\n",
    "y2 = 0\n",
    "\n",
    "# tidsparameter \n",
    "a = 0\n",
    "b = 1\n",
    "N = 1000\n",
    "t = linspace(a,b,N)\n",
    "dt = t[1]-t[0]\n",
    "\n",
    "\n",
    "# arrayer \n",
    "x = zeros(N+1)\n",
    "y = zeros(N+1)\n",
    "vx = zeros(N+1)\n",
    "vy = zeros(N+1)\n",
    "\n",
    "\n",
    "# intitialisering \n",
    "t[0] = a\n",
    "x[0] = x0\n",
    "y[0] = y0\n",
    "vx[0] = vx0\n",
    "vy[0] = vy0\n",
    "\n",
    "\n",
    "\n",
    "# eulers metode\n",
    "for i in range(N):\n",
    "    a_x = -G*m_2*x[i]/((x[i]-x2)**2 + (y[i]-y2)**2)**(3/2)    #uttrykket som står i nevner er det samme som norm[xy]**3\n",
    "    a_y = -G*m_2*y[i]/((x[i]-x2)**2 + (y[i]-y2)**2)**(3/2)\n",
    "    vx[i+1] = vx[i] + a_x*dt\n",
    "    vy[i+1] = vy[i] + a_y*dt\n",
    "    x[i+1] = x[i] + vx[i]*dt\n",
    "    y[i+1] = y[i] + vy[i]*dt\n",
    "\n",
    "figure(figsize=(5,5))\n",
    "#plot for sola\n",
    "plot(0,0,\"yo\")\n",
    "\n",
    "#plot for jordas bane\n",
    "plot(x,y)\n",
    "title(\"Plott for jordas bane rundt sola (eulers)\")\n",
    "xlabel(\"Avstand i AU (x-retning)\")\n",
    "ylabel(\"Avstand i AU (y-retning)\")\n",
    "show()"
   ]
  },
  {
   "cell_type": "markdown",
   "metadata": {
    "colab_type": "text",
    "id": "XHJuIVCzdHQC"
   },
   "source": [
    "## d)"
   ]
  },
  {
   "cell_type": "markdown",
   "metadata": {
    "colab_type": "text",
    "id": "68_BPf6z5_9k"
   },
   "source": [
    "#### eulers -cromers metode u klasser"
   ]
  },
  {
   "cell_type": "code",
   "execution_count": 7,
   "metadata": {
    "colab": {},
    "colab_type": "code",
    "id": "cKNXmFwmdFu-"
   },
   "outputs": [
    {
     "data": {
      "image/png": "[encoded data removed]",
      "text/plain": [
       "<Figure size 360x360 with 1 Axes>"
      ]
     },
     "metadata": {
      "needs_background": "light"
     },
     "output_type": "display_data"
    }
   ],
   "source": [
    "from pylab import *\n",
    "\n",
    "# variabler og konstanter\n",
    "G = 4*pi**2\n",
    "#r = 1.50 * 1E11 # AU astronomical unit\n",
    "m_1 = 3*1E-6\n",
    "m_2 = 1\n",
    "x0 = 1          #startverdier\n",
    "y0 = 0\n",
    "vx0 = 0\n",
    "vy0 = 2*pi\n",
    "\n",
    "x2 = 0\n",
    "y2 = 0\n",
    "\n",
    "# tidsparameter\n",
    "a = 0\n",
    "b = 1\n",
    "N = 1000\n",
    "t = linspace(a,b,N)\n",
    "dt = t[1]-t[0]\n",
    "\n",
    "\n",
    "# arrayer\n",
    "x = zeros(N+1)\n",
    "y = zeros(N+1)\n",
    "vx = zeros(N+1)\n",
    "vy = zeros(N+1)\n",
    "\n",
    "\n",
    "# intitialisering\n",
    "t[0] = a\n",
    "x[0] = x0\n",
    "y[0] = y0\n",
    "vx[0] = vx0\n",
    "vy[0] = vy0\n",
    "\n",
    "\n",
    "\n",
    "# eulers -cromers metode\n",
    "for i in range(N):\n",
    "    a_x = -G*m_2*x[i]/((x[i]-x2)**2 + (y[i]-y2)**2)**(3/2)      #uttrykket i teller er det samme som norm[xy]**3\n",
    "    a_y = -G*m_2*y[i]/((x[i]-x2)**2 + (y[i]-y2)**2)**(3/2)\n",
    "    vx[i+1] = vx[i] + a_x*dt\n",
    "    vy[i+1] = vy[i] + a_y*dt\n",
    "    x[i+1] = x[i] + vx[i+1]*dt\n",
    "    y[i+1] = y[i] + vy[i+1]*dt\n",
    "\n",
    "figure(figsize=(5,5))\n",
    "#plot for sola\n",
    "plot(0,0,\"yo\")\n",
    "#plott for jorda\n",
    "plot(x,y)\n",
    "title(\"Plott for jordas bane rundt sola (eulers -cromers)\")\n",
    "xlabel(\"Avstand i AU (x-retning)\")\n",
    "ylabel(\"Avstand i AU (y-retning)\")\n",
    "show()"
   ]
  },
  {
   "cell_type": "markdown",
   "metadata": {
    "colab_type": "text",
    "id": "0DARxb72f51R"
   },
   "source": [
    "#### Versjon med klasser"
   ]
  },
  {
   "cell_type": "code",
   "execution_count": 6,
   "metadata": {
    "colab": {},
    "colab_type": "code",
    "id": "Xvec3Vzwf-Ef"
   },
   "outputs": [
    {
     "data": {
      "image/png": "[encoded data removed]",
      "text/plain": [
       "<Figure size 360x360 with 1 Axes>"
      ]
     },
     "metadata": {
      "needs_background": "light"
     },
     "output_type": "display_data"
    }
   ],
   "source": [
    "from pylab import *\n",
    "\n",
    "# variabler \n",
    "G = 4*pi**2\n",
    "m_sol = 1\n",
    "\n",
    "# tidsparameter\n",
    "a = 0\n",
    "b = 15\n",
    "N = 10000\n",
    "t = linspace(a,b,N)\n",
    "dt = t[1]-t[0]\n",
    "\n",
    "# array med jordas start verdier\n",
    "testarray = array([1,0,0,2*pi,1])\n",
    "\n",
    "class planeter: # lager classe som en måte å lagre informasjon til en planet\n",
    "    def __init__(self, data): # som kan hentes ut for forskjellige forekomster av classen\n",
    "        \n",
    "        self.x0 = data[0] \n",
    "        self.y0 = data[1]\n",
    "        self.vx0 = data[2]\n",
    "        self.vy0 = data[3]\n",
    "        self.m = data[4]\n",
    "        \n",
    "        # arrayer \n",
    "        self.x = zeros(N+1)\n",
    "        self.y = zeros(N+1)\n",
    "        self.vx = zeros(N+1)\n",
    "        self.vy = zeros(N+1)\n",
    "        \n",
    "        # intitialisering\n",
    "        self.x[0] = self.x0\n",
    "        self.y[0] = self.y0\n",
    "        self.vx[0] = self.vx0\n",
    "        self.vy[0] = self.vy0\n",
    "        \n",
    "        \n",
    "    def eulercromers(self): # en method for classen planeter, regner ut banen med euler-cromers metode\n",
    "\n",
    "        x2 = 0\n",
    "        y2 = 0\n",
    "\n",
    "        for i in range(N):\n",
    "    \n",
    "            a_x = -G*m_sol*self.x[i]/((self.x[i]-x2)**2 + (self.y[i]-y2)**2)**(3/2) \n",
    "            a_y = -G*m_sol*self.y[i]/((self.x[i]-x2)**2 + (self.y[i]-y2)**2)**(3/2)\n",
    "            \n",
    "            self.vx[i+1] = self.vx[i] + a_x*dt\n",
    "            self.vy[i+1] = self.vy[i] + a_y*dt\n",
    "            \n",
    "            self.x[i+1] = self.x[i] + self.vx[i+1]*dt\n",
    "            self.y[i+1] = self.y[i] + self.vy[i+1]*dt\n",
    "\n",
    "        \n",
    "jorda = planeter(testarray) # lager en forekomst \"jorda\" av klassen planet\n",
    "\n",
    "jorda.eulercromers() # bruker eulercromers metode på forekomsten \"jorda\" av klassen planet\n",
    "\n",
    "figure(figsize=(5,5)) \n",
    "plot(0,0,\"yo\")\n",
    "plot(jorda.x,jorda.y) # henter ut bestemt informasjon av forekomsten \"jorda\" av klassen planet\n",
    "title(\"Plott for jordas bane rundt sola (eulers -cromers)\")\n",
    "xlabel(\"Avstand i AU (x-retning)\")\n",
    "ylabel(\"Avstand i AU (y-retning)\")\n",
    "show()"
   ]
  },
  {
   "cell_type": "markdown",
   "metadata": {
    "colab_type": "text",
    "id": "HvfRW2smgnbY"
   },
   "source": [
    "\n",
    "## e) \n"
   ]
  },
  {
   "cell_type": "markdown",
   "metadata": {
    "colab_type": "text",
    "id": "ZGYKpbTl6HuU"
   },
   "source": [
    "#### plot for alle planeter m klasser"
   ]
  },
  {
   "cell_type": "code",
   "execution_count": 0,
   "metadata": {
    "colab": {},
    "colab_type": "code",
    "id": "G_6G46aYgOS-"
   },
   "outputs": [],
   "source": [
    "from pylab import *\n",
    "\n",
    "# variabler \n",
    "G = 4*pi**2\n",
    "m_sol = 1\n",
    "\n",
    "# tidsparameter\n",
    "a = 0\n",
    "b = 15\n",
    "N = 10000\n",
    "t = linspace(a,b,N)\n",
    "dt = t[1]-t[0]\n",
    "\n",
    "with open(\"planeter_data.dat\",\"r\") as infile: # åpner data filen \"planeter_data.dat slik at vi kan lese innholdet\n",
    "    P = int(infile.readline()) # leser 0te linje i fila, gjør det til integer\n",
    "    P_i = zeros([P,5]) # lager en array med P arrayer med størrelse 5\n",
    "    \n",
    "    for i,line in enumerate(infile):\n",
    "        data = line.split() # lager en array med elementer \n",
    "        \n",
    "        # putter inn infoen fra fila i array P_i \"planeter info\"\n",
    "        P_i[i,0] = float(data[1]) \n",
    "        P_i[i,1] = float(data[2])\n",
    "        P_i[i,2] = float(data[3])\n",
    "        P_i[i,3] = float(data[4])\n",
    "        P_i[i,4] = float(data[5])\n",
    "        \n",
    "\n",
    "class planeter:\n",
    "    def __init__(self, data):   \n",
    "        \n",
    "        # henter ut data fra array, som lager forekomst av klassen\n",
    "        self.x0 = data[0]\n",
    "        self.y0 = data[1]\n",
    "        self.vx0 = data[2]\n",
    "        self.vy0 = data[3]\n",
    "        self.m = data[4]\n",
    "        \n",
    "        # arrayer som lagres i forekomster av classen\n",
    "        self.x = zeros(N+1)\n",
    "        self.y = zeros(N+1)\n",
    "        self.vx = zeros(N+1)\n",
    "        self.vy = zeros(N+1)\n",
    "        \n",
    "        # intitialisering\n",
    "        self.x[0] = self.x0\n",
    "        self.y[0] = self.y0\n",
    "        self.vx[0] = self.vx0\n",
    "        self.vy[0] = self.vy0\n",
    "\n",
    "        \n",
    "Aplaneter = [] # tom liste, 'alle planeter'\n",
    "        \n",
    "for p in range(P):\n",
    "    Aplaneter.append(planeter(P_i[p,:]))  # fyller lista med forekomster av classen planeter\n",
    "\n",
    "\n",
    "for i in range(N):\n",
    "    for j in range(P): # Aplaneter[j] er en forekomst av klassen planeter, .'noe' kaller på informasjon knyttet til den forekomsten\n",
    "        pos_planet = array([Aplaneter[j].x[i],Aplaneter[j].y[i]]) # setter x, y til en posisjons array/ posisjons vektor, \n",
    "        fart_planet = array([Aplaneter[j].vx[i],Aplaneter[j].vy[i]]) # setter vx, vy til fart array/ farts vektor,\n",
    "        \n",
    "        r = norm(pos_planet) # radiusen er lik lengden til posisjons vektoren\n",
    "        a = -G*m_sol*pos_planet/r**3 #regner ut aksellerasjonen til (planet j)  \n",
    "        \n",
    "        for k in range(P):\n",
    "            if k != j: # hente ut bidrag fra andre planeter\n",
    "                pos_andreplanet = array([Aplaneter[k].x[i],Aplaneter[k].y[i]]) \n",
    "                fart_andreplanet = array([Aplaneter[k].vx[i],Aplaneter[k].vy[i]])\n",
    "                \n",
    "                rr = norm(pos_planet - pos_andreplanet) # avstanden mellom planetene\n",
    "                a -= G*Aplaneter[k].m*(pos_planet - pos_andreplanet)/rr**3 # aksellerasjon til planet j påvirket av planet k\n",
    "                # regner ut posisjon til planet j ved med eulercromers metode.\n",
    "        Aplaneter[j].vx[i+1] = Aplaneter[j].vx[i] + dt*a[0] \n",
    "        Aplaneter[j].vy[i+1] = Aplaneter[j].vy[i] + dt*a[1]\n",
    "        Aplaneter[j].x[i+1] = Aplaneter[j].x[i] + dt*Aplaneter[j].vx[i+1]\n",
    "        Aplaneter[j].y[i+1] = Aplaneter[j].y[i] + dt*Aplaneter[j].vy[i+1]\n",
    "\n",
    "navn = ['Jorda','Merkur','Venus','Mars'] # liste med navn for riktig label\n",
    "\n",
    "figure(figsize=(5,5)) # setter en størrelse på figuren\n",
    "\n",
    "for l in range(P):\n",
    "    plot(Aplaneter[l].x,Aplaneter[l].y,label=navn[l]) # plotter posisjonen til planet p\n",
    "\n",
    "\n",
    "plot(0,0,\"yo\",label='Sola') # plotter sola\n",
    "legend(prop={'size': 10}) # viser labels, setter størrelse label \n",
    "title(\"Plott for planetenes bane rundt sola\")\n",
    "xlabel(\"Avstand i AU (x-retning)\")\n",
    "ylabel(\"Avstand i AU (y-retning)\")\n",
    "\n",
    "show() # viser plot"
   ]
  },
  {
   "cell_type": "markdown",
   "metadata": {
    "colab_type": "text",
    "id": "IMoDwGhhSLNa"
   },
   "source": [
    "## f) \n",
    "(pygame funker ikke men her er koden hvertfall)"
   ]
  },
  {
   "cell_type": "markdown",
   "metadata": {
    "colab_type": "text",
    "id": "gQ_rl8996cam"
   },
   "source": [
    "#### første pygame (første versjon)"
   ]
  },
  {
   "cell_type": "code",
   "execution_count": 9,
   "metadata": {
    "colab": {},
    "colab_type": "code",
    "id": "Pq135lfcVzmC"
   },
   "outputs": [
    {
     "ename": "ModuleNotFoundError",
     "evalue": "No module named 'pygame'",
     "output_type": "error",
     "traceback": [
      "\u001b[0;31m---------------------------------------------------------------------------\u001b[0m",
      "\u001b[0;31mModuleNotFoundError\u001b[0m                       Traceback (most recent call last)",
      "\u001b[0;32m<ipython-input-9-9bd0f7977c71>\u001b[0m in \u001b[0;36m<module>\u001b[0;34m\u001b[0m\n\u001b[1;32m      1\u001b[0m \u001b[0;32mfrom\u001b[0m \u001b[0mpylab\u001b[0m \u001b[0;32mimport\u001b[0m \u001b[0;34m*\u001b[0m\u001b[0;34m\u001b[0m\u001b[0;34m\u001b[0m\u001b[0m\n\u001b[0;32m----> 2\u001b[0;31m \u001b[0;32mimport\u001b[0m \u001b[0mpygame\u001b[0m\u001b[0;34m\u001b[0m\u001b[0;34m\u001b[0m\u001b[0m\n\u001b[0m\u001b[1;32m      3\u001b[0m \u001b[0;34m\u001b[0m\u001b[0m\n\u001b[1;32m      4\u001b[0m \u001b[0;31m# variabler\u001b[0m\u001b[0;34m\u001b[0m\u001b[0;34m\u001b[0m\u001b[0;34m\u001b[0m\u001b[0m\n\u001b[1;32m      5\u001b[0m \u001b[0mG\u001b[0m \u001b[0;34m=\u001b[0m \u001b[0;36m4\u001b[0m\u001b[0;34m*\u001b[0m\u001b[0mpi\u001b[0m\u001b[0;34m**\u001b[0m\u001b[0;36m2\u001b[0m\u001b[0;34m\u001b[0m\u001b[0;34m\u001b[0m\u001b[0m\n",
      "\u001b[0;31mModuleNotFoundError\u001b[0m: No module named 'pygame'"
     ]
    }
   ],
   "source": [
    "from pylab import *\n",
    "import pygame\n",
    "\n",
    "# variabler \n",
    "G = 4*pi**2\n",
    "m_sol = 1\n",
    "\n",
    "# tidsparameter\n",
    "a = 0\n",
    "b = 15\n",
    "N = 10000\n",
    "t = linspace(a,b,N)\n",
    "dt = t[1]-t[0]\n",
    "\n",
    "with open(\"planeter_data.dat\",\"r\") as infile: # åpner data filen \"planeter_data.dat slik at vi kan lese innholdet\n",
    "    P = int(infile.readline()) # leser 0te linje i fila, gjør det til integer\n",
    "    P_i = zeros([P,5]) # lager en array med P arrayer med størrelse 5\n",
    "    \n",
    "    for i,line in enumerate(infile):\n",
    "        data = line.split() # lager en array med elementer \n",
    "        \n",
    "        # putter inn infoen fra fila i array P_i \"planeter info\"\n",
    "        P_i[i,0] = float(data[1]) \n",
    "        P_i[i,1] = float(data[2])\n",
    "        P_i[i,2] = float(data[3])\n",
    "        P_i[i,3] = float(data[4])\n",
    "        P_i[i,4] = float(data[5])\n",
    "        \n",
    "\n",
    "class planeter:\n",
    "    def __init__(self, data):   \n",
    "        \n",
    "        # henter ut data fra array, som lager forekomst av klassen\n",
    "        self.m = data[4]\n",
    "        \n",
    "        # arrayer som lagres i forekomster av classen\n",
    "        self.x = zeros(N+1)\n",
    "        self.y = zeros(N+1)\n",
    "        self.vx = zeros(N+1)\n",
    "        self.vy = zeros(N+1)\n",
    "        \n",
    "        # intitialisering\n",
    "        self.x[0] = data[0]\n",
    "        self.y[0] = data[1]\n",
    "        self.vx[0] = data[2]\n",
    "        self.vy[0] = data[3]\n",
    "\n",
    "        \n",
    "Aplaneter = [] # tom liste, 'alle planeter'\n",
    "        \n",
    "for p in range(P):\n",
    "    Aplaneter.append(planeter(P_i[p,:]))  # fyller lista med forekomster av classen planeter\n",
    "\n",
    "\n",
    "for i in range(N):\n",
    "    for j in range(P): # Aplaneter[j] er en forekomst av klassen planeter, .'noe' kaller på informasjon knyttet til den forekomsten\n",
    "        pos_planet = array([Aplaneter[j].x[i],Aplaneter[j].y[i]]) # setter x, y til en posisjons array/ posisjons vektor, \n",
    "        fart_planet = array([Aplaneter[j].vx[i],Aplaneter[j].vy[i]]) # setter vx, vy til fart array/ farts vektor,\n",
    "        \n",
    "        r = norm(pos_planet) # radiusen er lik lengden til posisjons vektoren\n",
    "        a = -G*m_sol*pos_planet/r**3 #regner ut aksellerasjonen til (planet j)  \n",
    "        \n",
    "        for k in range(P):\n",
    "            if k != j: # hente ut bidrag fra andre planeter\n",
    "                pos_andreplanet = array([Aplaneter[k].x[i],Aplaneter[k].y[i]]) \n",
    "                fart_andreplanet = array([Aplaneter[k].vx[i],Aplaneter[k].vy[i]])\n",
    "                \n",
    "                rr = norm(pos_planet - pos_andreplanet) # avstanden mellom planetene\n",
    "                a -= G*Aplaneter[k].m*(pos_planet - pos_andreplanet)/rr**3 # aksellerasjon til planet j påvirket av planet k\n",
    "                # regner ut posisjon til planet j ved med eulercromers metode.\n",
    "        Aplaneter[j].vx[i+1] = Aplaneter[j].vx[i] + dt*a[0] \n",
    "        Aplaneter[j].vy[i+1] = Aplaneter[j].vy[i] + dt*a[1]\n",
    "        Aplaneter[j].x[i+1] = Aplaneter[j].x[i] + dt*Aplaneter[j].vx[i+1]\n",
    "        Aplaneter[j].y[i+1] = Aplaneter[j].y[i] + dt*Aplaneter[j].vy[i+1]\n",
    "\n",
    "\n",
    "# variabler for skjermstørrelse\n",
    "width = 851\n",
    "hight = 851\n",
    "\n",
    "# definerer globale variabler til pygame\n",
    "i = 0\n",
    "d = 2       # for størrelsesforhold\n",
    "\n",
    "win = pygame.display.set_mode((width, hight))           # definerer vinduet\n",
    "pygame.display.set_caption(\"planet baner simulasjon\")   # navn på pygame\n",
    "\n",
    "# solas posisjon (midt i)\n",
    "sx = int(round(width / 2))\n",
    "sy = int(round(hight / 2))\n",
    "sol = (sx, sy)\n",
    "\n",
    "# gameloop\n",
    "run = True\n",
    "while run:\n",
    "    # gjør at det er mulig å avslutte\n",
    "    for event in pygame.event.get():\n",
    "        if event.type == pygame.QUIT:\n",
    "            run = False\n",
    "    \n",
    "    win.fill((0,0,0))   # svart bakgrunn \n",
    "\n",
    "    # i fungerer som index teller  \n",
    "    i += 1\n",
    "\n",
    "    # definerer hver enkelt planet sin posisjon for seg og tegner i pygamevindu\n",
    "    jx = int(round(sx + d*100*Aplaneter[0].x[i])) \n",
    "    jy = int(round(sy + d*100*Aplaneter[0].y[i]))\n",
    "    jorda = (jx,jy)\n",
    "    pygame.draw.circle(win,(95,128,174),jorda,7)\n",
    "    \n",
    "    mex = int(round(sx + d*100*Aplaneter[1].x[i]))\n",
    "    mey = int(round(sy + d*100*Aplaneter[1].y[i]))\n",
    "    merkur = (mex,mey)\n",
    "    pygame.draw.circle(win,(140,140,148),merkur,4)\n",
    "    \n",
    "    vex = int(round(sx + d*100*Aplaneter[2].x[i]))\n",
    "    vey = int(round(sy + d*100*Aplaneter[2].y[i]))\n",
    "    venus = (vex,vey)\n",
    "    pygame.draw.circle(win,(237,177,81),venus,6)\n",
    "    \n",
    "    mx = int(round(sx + d*100*Aplaneter[3].x[i]))\n",
    "    my = int(round(sy + d*100*Aplaneter[3].y[i]))\n",
    "    mars = (mx,my)\n",
    "    pygame.draw.circle(win,(147,72,56),mars,5)\n",
    "    \n",
    "    pygame.draw.circle(win,(255,255,0),sol,11) # tegner sola\n",
    "    \n",
    "    pygame.display.update()                    # oppdaterer pygame vindu\n",
    "    \n",
    "pygame.quit()\n"
   ]
  },
  {
   "cell_type": "markdown",
   "metadata": {
    "colab_type": "text",
    "id": "VspIgBYD63bn"
   },
   "source": [
    "#### pygamesimulering av planetpaner "
   ]
  },
  {
   "cell_type": "code",
   "execution_count": 10,
   "metadata": {
    "colab": {},
    "colab_type": "code",
    "id": "g2Olpy7HJPur"
   },
   "outputs": [
    {
     "ename": "ModuleNotFoundError",
     "evalue": "No module named 'pygame'",
     "output_type": "error",
     "traceback": [
      "\u001b[0;31m---------------------------------------------------------------------------\u001b[0m",
      "\u001b[0;31mModuleNotFoundError\u001b[0m                       Traceback (most recent call last)",
      "\u001b[0;32m<ipython-input-10-24211d9b8bc3>\u001b[0m in \u001b[0;36m<module>\u001b[0;34m\u001b[0m\n\u001b[1;32m      1\u001b[0m \u001b[0;32mfrom\u001b[0m \u001b[0mpylab\u001b[0m \u001b[0;32mimport\u001b[0m \u001b[0;34m*\u001b[0m\u001b[0;34m\u001b[0m\u001b[0;34m\u001b[0m\u001b[0m\n\u001b[0;32m----> 2\u001b[0;31m \u001b[0;32mimport\u001b[0m \u001b[0mpygame\u001b[0m\u001b[0;34m\u001b[0m\u001b[0;34m\u001b[0m\u001b[0m\n\u001b[0m\u001b[1;32m      3\u001b[0m \u001b[0;34m\u001b[0m\u001b[0m\n\u001b[1;32m      4\u001b[0m \u001b[0;31m# variabler\u001b[0m\u001b[0;34m\u001b[0m\u001b[0;34m\u001b[0m\u001b[0;34m\u001b[0m\u001b[0m\n\u001b[1;32m      5\u001b[0m \u001b[0mG\u001b[0m \u001b[0;34m=\u001b[0m \u001b[0;36m4\u001b[0m\u001b[0;34m*\u001b[0m\u001b[0mpi\u001b[0m\u001b[0;34m**\u001b[0m\u001b[0;36m2\u001b[0m\u001b[0;34m\u001b[0m\u001b[0;34m\u001b[0m\u001b[0m\n",
      "\u001b[0;31mModuleNotFoundError\u001b[0m: No module named 'pygame'"
     ]
    }
   ],
   "source": [
    "from pylab import *\n",
    "import pygame\n",
    "\n",
    "# variabler \n",
    "G = 4*pi**2\n",
    "m_sol = 1\n",
    "\n",
    "# tidsparameter\n",
    "a = 0\n",
    "b = 15\n",
    "N = 10000\n",
    "t = linspace(a,b,N)\n",
    "dt = t[1]-t[0]\n",
    "\n",
    "with open(\"planeter_data.dat\",\"r\") as infile: # åpner data filen \"planeter_data.dat slik at vi kan lese innholdet\n",
    "    P = int(infile.readline()) # leser 0te linje i fila, gjør det til integer\n",
    "    P_i = zeros([P,5]) # lager en array med P arrayer med størrelse 5\n",
    "    \n",
    "    for i,line in enumerate(infile):\n",
    "        data = line.split() # lager en array med elementer \n",
    "        \n",
    "        # putter inn infoen fra fila i array P_i \"planeter info\"\n",
    "        P_i[i,0] = float(data[1]) \n",
    "        P_i[i,1] = float(data[2])\n",
    "        P_i[i,2] = float(data[3])\n",
    "        P_i[i,3] = float(data[4])\n",
    "        P_i[i,4] = float(data[5])\n",
    "        \n",
    "\n",
    "class planeter:\n",
    "    def __init__(self, data):   \n",
    "        \n",
    "        # henter ut data fra array, som lager forekomst av klassen\n",
    "        self.m = data[4]\n",
    "        \n",
    "        # arrayer som lagres i forekomster av classen\n",
    "        self.x = zeros(N+1)\n",
    "        self.y = zeros(N+1)\n",
    "        self.vx = zeros(N+1)\n",
    "        self.vy = zeros(N+1)\n",
    "        \n",
    "        # intitialisering\n",
    "        self.x[0] = data[0]\n",
    "        self.y[0] = data[1]\n",
    "        self.vx[0] = data[2]\n",
    "        self.vy[0] = data[3]\n",
    "\n",
    "        \n",
    "Aplaneter = [] # tom liste, 'alle planeter'\n",
    "        \n",
    "for p in range(P):\n",
    "    Aplaneter.append(planeter(P_i[p,:]))  # fyller lista med forekomster av classen planeter\n",
    "\n",
    "\n",
    "for i in range(N):\n",
    "    for j in range(P): # Aplaneter[j] er en forekomst av klassen planeter, .'noe' kaller på informasjon knyttet til den forekomsten\n",
    "        pos_planet = array([Aplaneter[j].x[i],Aplaneter[j].y[i]]) # setter x, y til en posisjons array/ posisjons vektor, \n",
    "        fart_planet = array([Aplaneter[j].vx[i],Aplaneter[j].vy[i]]) # setter vx, vy til fart array/ farts vektor,\n",
    "        \n",
    "        r = norm(pos_planet) # radiusen er lik lengden til posisjons vektoren\n",
    "        a = -G*m_sol*pos_planet/r**3 #regner ut aksellerasjonen til (planet j)  \n",
    "        \n",
    "        for k in range(P):\n",
    "            if k != j: # hente ut bidrag fra andre planeter\n",
    "                pos_andreplanet = array([Aplaneter[k].x[i],Aplaneter[k].y[i]]) \n",
    "                fart_andreplanet = array([Aplaneter[k].vx[i],Aplaneter[k].vy[i]])\n",
    "                \n",
    "                rr = norm(pos_planet - pos_andreplanet) # avstanden mellom planetene\n",
    "                a -= G*Aplaneter[k].m*(pos_planet - pos_andreplanet)/rr**3 # aksellerasjon til planet j påvirket av planet k\n",
    "                # regner ut posisjon til planet j ved med eulercromers metode.\n",
    "        Aplaneter[j].vx[i+1] = Aplaneter[j].vx[i] + dt*a[0] \n",
    "        Aplaneter[j].vy[i+1] = Aplaneter[j].vy[i] + dt*a[1]\n",
    "        Aplaneter[j].x[i+1] = Aplaneter[j].x[i] + dt*Aplaneter[j].vx[i+1]\n",
    "        Aplaneter[j].y[i+1] = Aplaneter[j].y[i] + dt*Aplaneter[j].vy[i+1]\n",
    "\n",
    "pygame.init()       # starter pygame\n",
    "\n",
    "# variabler for skjermstørrelse\n",
    "width = 851\n",
    "hight = 851\n",
    "\n",
    "# definerer globale variabler til pygame\n",
    "i = 0\n",
    "d = 2       # for størrelsesforhold\n",
    "yr = 0\n",
    "win = pygame.display.set_mode((width, hight))           # definerer vinduet\n",
    "pygame.display.set_caption(\"planet baner simulasjon\")   # navn på pygame\n",
    "skrift = pygame.font.SysFont(\"monospace\", 30)           # definerer font\n",
    "\n",
    "# solas posisjon (midt i)\n",
    "sx = int(round(width / 2))\n",
    "sy = int(round(hight / 2))\n",
    "sol = (sx, sy)\n",
    "\n",
    "# definerer tekst farger og størrelse på planeter\n",
    "tekst = \"År: \"\n",
    "easteregg1 = \"Its corona time!!! \"\n",
    "easteregg2 = \"Det siste mennesket dør ut på grunn av et virus ingen tok seriøst. \"\n",
    "farger = [(95, 128, 174),(140, 140, 148),(237, 177, 81),(147, 72, 56)]  # lager liste med tupler i for å få riktig farger\n",
    "strl = [7,4,6,5]                                                        # lager liste med planetstørrelser\n",
    "# definerer omtrent ett år\n",
    "år = int(round(N/b))\n",
    "\n",
    "# gameloop\n",
    "run = True\n",
    "while run:\n",
    "    # gjør at det er mulig å avslutte\n",
    "    for event in pygame.event.get():\n",
    "        if event.type == pygame.QUIT:\n",
    "            run = False\n",
    "\n",
    "    win.fill((0,0,0))   # svart bakgrunn\n",
    "\n",
    "    t = skrift.render(tekst + str(yr), 12, (255, 255, 255))     # lager tekst som kan brukes i pygame\n",
    "    win.blit(t, (1, 1))                                         # sender til skjerm\n",
    "    pygame.draw.circle(win,(255,255,0),sol, 30)                 # tegner sola\n",
    "    i += 1                                                      # loopen slutter når i==N\n",
    "    # tegneloopen, tegner alle planetene\n",
    "    for k in range(P):\n",
    "        # henter ut x og y verdien fra arrayene x og y i listen Aplaneter, og gir den til riktig planet i P\n",
    "        x = int(round(sx+d*100*Aplaneter[k].x[i]))\n",
    "        y = int(round(sx + d * 100 * Aplaneter[k].y[i]))\n",
    "        planet = (x,y)                                          # definerer planeten\n",
    "        pygame.draw.circle(win,farger[k],planet,strl[k])        # tegner planeten\n",
    "    # teller år og sender til skjerm\n",
    "    if i == år:\n",
    "        år+=int(round(N/b))\n",
    "        yr+=1\n",
    "    # starter loopen på nytt når den ikke har flere punkter å se etter\n",
    "    if yr == b: # slutt på simulasjon starter automatisk ny\n",
    "      i = 0\n",
    "      yr = 0\n",
    "      år = int(round(N/b))\n",
    "\n",
    "    if yr == 17:\n",
    "        l = skrift.render(easteregg1, 12, (randint(0,255), randint(0,255), randint(0,255)))  \n",
    "        win.blit(l, (width/2, 1))\n",
    "    if yr == 27:\n",
    "        s = skrift.render(easteregg2, 12, (randint(0,255), randint(0,255), randint(0,255)))  \n",
    "        win.blit(s,100, 1)\n",
    "\n",
    "    # opdaterer skjerm så alt vises\n",
    "    pygame.display.update()\n",
    "\n",
    "pygame.quit()"
   ]
  },
  {
   "cell_type": "code",
   "execution_count": 0,
   "metadata": {
    "colab": {},
    "colab_type": "code",
    "id": "hB71WeT5g3Kk"
   },
   "outputs": [],
   "source": []
  }
 ],
 "metadata": {
  "colab": {
   "collapsed_sections": [],
   "name": "progmodprosjekt.ipynb",
   "private_outputs": true,
   "provenance": [],
   "toc_visible": true
  },
  "kernelspec": {
   "display_name": "Python 3",
   "language": "python",
   "name": "python3"
  },
  "language_info": {
   "codemirror_mode": {
    "name": "ipython",
    "version": 3
   },
   "file_extension": ".py",
   "mimetype": "text/x-python",
   "name": "python",
   "nbconvert_exporter": "python",
   "pygments_lexer": "ipython3",
   "version": "3.7.4"
  }
 },
 "nbformat": 4,
 "nbformat_minor": 1
}
