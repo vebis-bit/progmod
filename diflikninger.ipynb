{
 "cells": [
  {
   "cell_type": "markdown",
   "metadata": {},
   "source": [
    "## muffinsform som faller"
   ]
  },
  {
   "cell_type": "code",
   "execution_count": 1,
   "metadata": {},
   "outputs": [
    {
     "data": {
      "text/plain": [
       "<Figure size 640x480 with 1 Axes>"
      ]
     },
     "metadata": {},
     "output_type": "display_data"
    }
   ],
   "source": [
    "from pylab import *\n",
    "\n",
    "#konstanter\n",
    "k = 0.008    # luftmotstand\n",
    "g = 9.81    # tyngdens akselerasjon i m/s^2\n",
    "m = 0.001   # vekt i kg\n",
    "v0 = 0      # startfart i m/s\n",
    "s0 = 0      # startposisjon i m\n",
    "\n",
    "# Tidsvariabler\n",
    "dt = 0.0005     # tidsintrvall i sekunder\n",
    "tid_start = 0\n",
    "tid_slutt = 2\n",
    "N = int((tid_slutt - tid_start)/dt) # antall intervaller \n",
    "\n",
    "#arrayer\n",
    "t = zeros(N+1)\n",
    "a = zeros(N+1)\n",
    "v = zeros(N+1)\n",
    "s = zeros(N+1)\n",
    "\n",
    "\n",
    "#startverdier\n",
    "t[0] = tid_start\n",
    "v[0] = v0\n",
    "s[0] = s0\n",
    "\n",
    "for i in range(N):\n",
    "    a[i] = g - k*v[i]**2/m\n",
    "    v[i+1] = v[i] + a[i]*dt\n",
    "    s[i+1] = s[i] + v[i]*dt + 0.5*a[i]*dt**2\n",
    "    t[i+1] = t[i] + dt\n",
    "\n",
    "plot(t,s, label='Strekning (m)')\n",
    "title(\"Fallende ball\")\n",
    "xlabel(\"Tid (s)\")\n",
    "ylabel(\"Y-aksen\")\n",
    "plot(t, a, label='Akselerasjon (m/s^2)')\n",
    "plot(t, v, label='Fart (m/s)')\n",
    "legend()\n",
    "show()"
   ]
  },
  {
   "cell_type": "markdown",
   "metadata": {},
   "source": [
    "## diflikninger\n",
    "\n",
    "en diferensiallikning er en likning som beskriver samenhengen mellom endringen i et system og tilstanden til systemet\n",
    "\n",
    "v(t) = g - $\\frac {k*v(t)}{m}$\n",
    "\n",
    "vi har: f'(x),  vi finner: f(x) \n",
    "#### det vil si at vi bruker integrasjon\n",
    "\n",
    "eksempler:\n",
    "\n",
    "f'(x) = 1, \n",
    "f(x) = x + c\n",
    "\n",
    "f'(x) = x, \n",
    "f(x) = $\\frac{1}{2}$ + c\n",
    "\n",
    "f'(x) = $x^3$, \n",
    "f(x) = $\\frac{1}{4}$ + c\n",
    "\n",
    "f'(x) = f(x), \n",
    "f(x) = $e^x$ + c\n",
    "\n",
    "\n",
    "### eulers metode:\n",
    "v'(t) = g - $\\frac {k*v(t)}{m}$\n",
    "\n",
    "v(t) = $v_0$ + a*t\n",
    "\n",
    "f'(x) = $\\frac {f(x+∆x) - f(x)}{∆x}$\n",
    "\n",
    "med litt algebra får man\n",
    "\n",
    "∆x * f'(x) = f(x+∆x) - f(x) –> f(x+∆x) = ∆x * f'(x) + f(x)\n",
    "\n",
    "$f(x+∆x) = ∆x * f'(x) + f(x)$"
   ]
  },
  {
   "cell_type": "markdown",
   "metadata": {},
   "source": [
    "## oppgave diff II\n",
    "a) den kan beskrives som $P'(t) = k\\cdot P(t)$ fordi da har man en konstant for hvor stor veksten er, også er den avhengig av tiden.\n",
    "\n",
    "b) i likningen vil det inngå en k, som er vekstfaktoren, og blir bestemt i forhold til biologiske faktorer hos apene. P(t) vil være populasjonen i forhold til tid. og disse to faktorene multiplisert vil gi stigningen til populasjonen på ett gitt tidspunkt. \n"
   ]
  },
  {
   "cell_type": "code",
   "execution_count": 3,
   "metadata": {},
   "outputs": [
    {
     "data": {
      "image/png": "[encoded data removed]",
      "text/plain": [
       "<Figure size 432x288 with 1 Axes>"
      ]
     },
     "metadata": {
      "needs_background": "light"
     },
     "output_type": "display_data"
    }
   ],
   "source": [
    "from pylab import *\n",
    "\n",
    "p0 = 100\n",
    "k = 0.5\n",
    "\n",
    "\n",
    "\n",
    "\n",
    "# Tidsvariabler\n",
    "dt = 0.1     # tidsintrvall i sekunder\n",
    "tid_start = 0\n",
    "tid_slutt = 3.3\n",
    "N = int((tid_slutt - tid_start)/dt) # antall intervaller \n",
    "\n",
    "\n",
    "Pder = zeros(N+1)\n",
    "P = zeros(N+1)\n",
    "t = zeros(N+1)\n",
    "\n",
    "t[0] = tid_start\n",
    "P[0] = p0\n",
    "\n",
    "\n",
    "for i in range(N):\n",
    "    Pder[i] = k*P[i]\n",
    "    P[i+1] = P[i] + Pder[i]*dt\n",
    "    t[i+1] = t[i] + dt\n",
    "\n",
    "plot (t,P, label=\"Populasjonsvekst\")\n",
    "xlabel(\"tid(måneder)\")\n",
    "ylabel(\"antall aper\")\n",
    "show()"
   ]
  },
  {
   "cell_type": "code",
   "execution_count": null,
   "metadata": {},
   "outputs": [],
   "source": []
  }
 ],
 "metadata": {
  "kernelspec": {
   "display_name": "Python 3",
   "language": "python",
   "name": "python3"
  },
  "language_info": {
   "codemirror_mode": {
    "name": "ipython",
    "version": 3
   },
   "file_extension": ".py",
   "mimetype": "text/x-python",
   "name": "python",
   "nbconvert_exporter": "python",
   "pygments_lexer": "ipython3",
   "version": "3.7.4"
  }
 },
 "nbformat": 4,
 "nbformat_minor": 2
}
