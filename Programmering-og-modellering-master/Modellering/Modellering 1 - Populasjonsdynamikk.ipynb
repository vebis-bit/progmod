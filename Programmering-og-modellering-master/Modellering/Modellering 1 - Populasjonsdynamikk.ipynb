{
 "cells": [
  {
   "cell_type": "markdown",
   "metadata": {},
   "source": [
    "# Modellering av populasjoner\n",
    "\n",
    "Vi skal nå se på modellering av populasjoner med utgangspunkt i tre modeller som er basert på differensiallikninger. Disse skal vi så løse med Eulers metode. Følgende mål er viktige for å forstå modelleringsprosessen:\n",
    "\n",
    "- Drøfte modellens styrker og begrensninger.\n",
    "- Forstå og drøfte koeffisientenes betydning i en modell.\n",
    "- Forstå, utlede og bruke Eulers metode.\n",
    "- Tolke resultatene en får med Eulers metode.\n",
    "\n",
    "Dette skal vi øve oss på, slik at det avsluttende modelleringsprosjektet deres blir så godt som mulig!\n",
    "\n",
    "Vi skal utforske tre modeller for populasjonsdynamikk her. De tar utgangspunkt i følgende kriterier:\n",
    "\n",
    "1. Uendelig ressurser.\n",
    "2. Endelige ressurser: Bæreevne.\n",
    "3. Rovdyr-bytte-forhold.\n",
    "\n",
    "## Modell 1: Ubegrensa vekst\n",
    "\n",
    "<img src=\"https://i.ytimg.com/vi/k7PXL-khy4c/maxresdefault.jpg\",width=500,height=500>\n",
    "\n",
    "Vi slipper ut 100 kaniner på øde øy. Noen elever drar til øya og registrerer hvordan kaninene formerer seg. Ved å ta omfattende målinger hver måned, finner de ut at populasjoner av kaniner øker med 5 % i måneden.\n",
    "\n",
    "1. Forklar hvorfor vi kan bruke modellen $K'(t) = k\\cdot K(t)$, der $k = 0.05$.\n",
    "2. Hvilken initalbetingelse har vi?\n",
    "3. Løs difflikninga ovenfor med Eulers metode. Tegn grafen til _K_.\n",
    "4. Beskriv utviklinga med ord.\n",
    "5. Hva skjer hvis vi begynner med 2, 5 eller 200 kaniner? Hvordan forandrer kurven seg.\n",
    "6. Hva betyr egentlig $k$? Hva slags verdi av $k$ vil være realistisk (søk på internett).\n",
    "7. Hva skjer hvis populasjonen øker med 10 % isteden? Hva med 50 %?\n",
    "8. Forandrer noe seg hvis vi angir tida i år istedenfor måneder? Hva med $k$?\n",
    "9. Hva slags type funksjonsuttrykk er _K_? Bruk grafen som hint."
   ]
  },
  {
   "cell_type": "markdown",
   "metadata": {},
   "source": [
    "## Modell 2: Vekst med bæreevne\n",
    "\n",
    "<img src=\"https://no.vwr.com/no.vwr.com/no_NO/images/segment_microbiology.jpg\",width=500,height=500>\n",
    "\n",
    "Vi har 5000 bakterier i en petriskål med agar. Veksten til bakteriene er poporsjonal med antall bakterier til enhver tid. En biolog finner ut at populasjonen stabiliserer seg etter hvert rundt 50000 bakterier.\n",
    "\n",
    "La $B(t)$ være antall bakterier i beholderen etter $t$ timer.\n",
    "\n",
    "1. Hva kan vi si om $B(0)$?\n",
    "2. Vi kaller bæreevnen $b$. Hva menes med bæreevne? Hvilke biologiske faktorer bestemmer denne?\n",
    "3. Forklar at en gyldig modell kan gis ved: $B'(t) = k \\cdot B(t)\\cdot (1−B(t)/b)$\n",
    "\n",
    "I begynnelsen vokser bakteriebefolkningen med 900 bakterier per time.\n",
    "\n",
    "4. Forklar hvorfor k=0.000004 med regning.\n",
    "5. Løs differensiallikninga med Eulers metode.\n",
    "6. Uforsk modellen ved å varierer $k$ og $b$ systematisk. Hvilke sammenhenger finner du?"
   ]
  },
  {
   "cell_type": "markdown",
   "metadata": {},
   "source": [
    "## Modell 3: Rovdyr-byttedyr\n",
    "\n",
    "<img src=\"https://i.ytimg.com/vi/zNO0kxTClYo/maxresdefault.jpg\",width=500,height=500>\n",
    "\n",
    "Vi trenger to differensiallikninger for å modellere både rovdyr og byttedyr. Størrelsen til de ulike populasjonene, vil påvirke hverandre. En modell for dette er gitt med følgende type differensiallikninger (kalt Lotka-Volterra differensiallikningene):\n",
    "\n",
    "La B(t) være antall byttedyr etter t tidsenheter og la R(t) være antall rovdyr etter t tidsenheter.\n",
    "\n",
    "$B'(t) = a\\cdot B(t) - b\\cdot B(t)R(t)$\n",
    "\n",
    "$R'(t) = c\\cdot B(t)R(t) - d \\cdot R(t)$\n",
    "\n",
    "1\\. Hva betyr de ulike leddene i likningene? Hva betyr de ulike koeffisientene?\n",
    "\n",
    "Vi kan starte med 100 seler og 100 isbjørner på en isolert øy. Vi velger A=0.25, B=0.002, C=0.1 og D=0.001.\n",
    "\n",
    "2\\. Bruk Eulers metode og løs likningene. Plott _B(t)_ og _R(t)_ i samme koordinatsystem. Beskriv sammenhengen med ord.\n",
    "\n",
    "3\\. Legg in bæreevne for selen. Hvorfor trengs ikke dette nødvendigvis for isbjørnen?\n",
    "\n",
    "4\\. Endre systematisk på antallet rovdyr og byttedyr. Beskriv hva som skjer.\n",
    "\n",
    "5\\. Endre systematisk på koeffisientene. Beskriv hva som skjer."
   ]
  },
  {
   "cell_type": "code",
   "execution_count": null,
   "metadata": {},
   "outputs": [],
   "source": []
  }
 ],
 "metadata": {
  "kernelspec": {
   "display_name": "Python 3",
   "language": "python",
   "name": "python3"
  },
  "language_info": {
   "codemirror_mode": {
    "name": "ipython",
    "version": 3
   },
   "file_extension": ".py",
   "mimetype": "text/x-python",
   "name": "python",
   "nbconvert_exporter": "python",
   "pygments_lexer": "ipython3",
   "version": "3.6.3"
  }
 },
 "nbformat": 4,
 "nbformat_minor": 2
}
