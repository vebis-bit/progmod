{
 "cells": [
  {
   "cell_type": "markdown",
   "metadata": {},
   "source": [
    "# Lister, arrayer og tupler\n",
    "## Lister\n",
    "En liste er en samling elementer og lages med klammeparenteser. Det er flere ulike listeoperasjoner som _append_ og _remove_, men matematiske operasjoner fungerer ikke på lister på samme måte som på arrayer.\n",
    "\n",
    "### Oppgave 1\n",
    "\n",
    "Hva printes i kodesnuttene under?\n",
    "\n",
    "#### a)"
   ]
  },
  {
   "cell_type": "code",
   "execution_count": null,
   "metadata": {},
   "outputs": [],
   "source": [
    "Harry = ['I', 'solemnly', 'swear', 'that', 'I', 'am', 'up', 'to', 'no', 'good.']\n",
    "Frenchman = ['your', 'father', 'was', 'a', 'hamster,', 'and', 'your', 'mother', \\\n",
    "          'smelt', 'of', 'elderberries!']\n",
    "\n",
    "print(Harry[0], Harry[5], Frenchman[6], Frenchman[1])"
   ]
  },
  {
   "cell_type": "markdown",
   "metadata": {},
   "source": [
    "#### b)"
   ]
  },
  {
   "cell_type": "code",
   "execution_count": null,
   "metadata": {},
   "outputs": [],
   "source": [
    "seasons = [\"summer\", \"fall\", \"winter\", \"spring\"]\n",
    "Forrest_Gump = ['life', 'is', 'like', 'a', 'box', 'of', 'chocolates']\n",
    "santa_claus = [\"I\", \"am\", \"coming\", \"to\", \"town\"]\n",
    "\n",
    "print(seasons[2], Forrest_Gump[1], santa_claus[2])"
   ]
  },
  {
   "cell_type": "markdown",
   "metadata": {},
   "source": [
    "#### c)"
   ]
  },
  {
   "cell_type": "code",
   "execution_count": null,
   "metadata": {},
   "outputs": [],
   "source": [
    "Hermione = [\"it's\", 'leviOsa', 'not', 'leviosAR']\n",
    "Dory = [\"just\", \"keep\", \"swimming\"]\n",
    "astronaut = [\"Houston\", \"we\", \"have\", \"a\", \"problem\"]\n",
    "necrotizing_fasciitis = [\"flesh\", \"eating\", \"bacteria\"]\n",
    "first_aid = [\"apply\", \"pressure\", \"to\", \"open\", \"wound\"]\n",
    "\n",
    "print(Hermione[0], Dory[0], astronaut[3], necrotizing_fasciitis[0], first_aid[-1])"
   ]
  },
  {
   "cell_type": "markdown",
   "metadata": {},
   "source": [
    "#### d)"
   ]
  },
  {
   "cell_type": "code",
   "execution_count": null,
   "metadata": {},
   "outputs": [],
   "source": [
    "old_list = [\"You\", \"don't\", \"understand!\"]\n",
    "index_list = []\n",
    "new_list = []\n",
    "\n",
    "for i in range(0, 3, 2):\n",
    "    index_list.append(i)\n",
    "    word = old_list[i]\n",
    "    new_list.append(word)\n",
    "    \n",
    "print(\"indices: \", index_list)\n",
    "print(new_list)"
   ]
  },
  {
   "cell_type": "markdown",
   "metadata": {},
   "source": [
    "### Oppgave 2\n",
    "\n",
    "Gitt listen `elements`, som inneholder grunnstoffene (kun hovedgruppe) fra fem perioder:"
   ]
  },
  {
   "cell_type": "code",
   "execution_count": null,
   "metadata": {},
   "outputs": [],
   "source": [
    "p_1 = ['H', 'He']\n",
    "p_2 = ['Li', 'Be', 'B', 'C', 'N', 'O', 'F', 'Ne']\n",
    "p_3 = ['Na', 'Mg', 'Al', 'Si', 'P', 'S', 'Cl', 'Ar']\n",
    "p_4 = ['K', 'Ca', 'Ga', 'Ge', 'As', 'Se', 'Br', 'Kr']\n",
    "p_5 = ['Rb', 'Sr', 'In', 'Sn', 'Sb', 'Te', 'I', 'Xe']\n",
    "\n",
    "elements = [p_1, p_2, p_3, p_4, p_5]"
   ]
  },
  {
   "cell_type": "markdown",
   "metadata": {},
   "source": [
    "#### a)\n",
    "\n",
    "`print` ut symbolet til alle grunnstoffene i gruppe 1 (hydrogen + alkalimetallene) som finnes i lista `elements`. Bruk ei `for`-løkke!"
   ]
  },
  {
   "cell_type": "code",
   "execution_count": null,
   "metadata": {},
   "outputs": [],
   "source": []
  },
  {
   "cell_type": "markdown",
   "metadata": {},
   "source": [
    "#### b)\n",
    "\n",
    "`print` ut symbolet til alle edelgassene som finnes i lista `elements`. Bruk ei `for`-løkke!"
   ]
  },
  {
   "cell_type": "code",
   "execution_count": null,
   "metadata": {},
   "outputs": [],
   "source": []
  },
  {
   "cell_type": "markdown",
   "metadata": {},
   "source": [
    "#### c)\n",
    "\n",
    "`print` ut symbolet til alle halogenene som finnes i lista `elements`. Bruk ei `for`-løkke!"
   ]
  },
  {
   "cell_type": "code",
   "execution_count": null,
   "metadata": {},
   "outputs": [],
   "source": []
  },
  {
   "cell_type": "markdown",
   "metadata": {},
   "source": [
    "## Arrayer\n",
    "Arrayer er datasamlinger som en kan gjøre matematiske vektoroperasjoner på. De kan lages og manipuleres gjennom biblioteket _pylab_.\n",
    "\n",
    "### Oppgave 3\n",
    "\n",
    "Programmet nedenfor skal finne alle _n_ Fibonaccitall. Fibonaccifølgen starter slik: 1, 1, 2, 3, 5, 8, 13, 21, 32, 55, ...\n",
    "\n",
    "#### a) \n",
    "Fyll inn det som mangler i programmet slik at det fungerer."
   ]
  },
  {
   "cell_type": "code",
   "execution_count": null,
   "metadata": {},
   "outputs": [],
   "source": [
    "from pylab import *\n",
    "\n",
    "def fibonacci(n):\n",
    "    tall = zeros(n)\n",
    "    tall[?] = 1\n",
    "    tall[?] = 1\n",
    "    for i in range(2, n):\n",
    "        tall[?] = tall[?] + tall[?]\n",
    "    return tall"
   ]
  },
  {
   "cell_type": "markdown",
   "metadata": {},
   "source": [
    "#### b)\n",
    "Bruk funksjonen ovenfor til å skrive ut det 10. fibonaccitallet."
   ]
  },
  {
   "cell_type": "code",
   "execution_count": null,
   "metadata": {},
   "outputs": [],
   "source": []
  },
  {
   "cell_type": "markdown",
   "metadata": {},
   "source": [
    "#### c)\n",
    "Kall funksjonen med _n_ = 100 og lagre dette i en variabel. Lag en liten løkke som skriver ut annethver element."
   ]
  },
  {
   "cell_type": "code",
   "execution_count": null,
   "metadata": {},
   "outputs": [],
   "source": []
  },
  {
   "cell_type": "markdown",
   "metadata": {},
   "source": [
    "#### d)\n",
    "Lag løkka i **c)** ovenfor som en funksjon som tar en array som input og skriver ut annethvert element i denne arrayen. Test med Fibonacci-følgen ovenfor."
   ]
  },
  {
   "cell_type": "code",
   "execution_count": null,
   "metadata": {},
   "outputs": [],
   "source": []
  },
  {
   "cell_type": "markdown",
   "metadata": {},
   "source": [
    "### Oppgave 4\n",
    "Arrayer oppfører seg matematisk som vektorer. La a = [1 2 3] og b = [3 4 4]. Bruk operatorene +, -, * og / på både array a og array b."
   ]
  },
  {
   "cell_type": "code",
   "execution_count": null,
   "metadata": {},
   "outputs": [],
   "source": [
    "from pylab import *\n",
    "\n",
    "a = array([1, 2, 3])\n",
    "b = array([3, 4, 4])\n",
    "\n",
    "???"
   ]
  },
  {
   "cell_type": "markdown",
   "metadata": {},
   "source": [
    "Prøv de samme operasjonene på listene a = [1, 2, 3] og b = [3, 4, 4]. Legg merke til forskjellen mellom arrayer og lister her."
   ]
  },
  {
   "cell_type": "code",
   "execution_count": null,
   "metadata": {},
   "outputs": [],
   "source": [
    "a = [1, 2, 3]\n",
    "b = [3, 4, 4]\n",
    "\n",
    "???"
   ]
  },
  {
   "cell_type": "markdown",
   "metadata": {},
   "source": [
    "## Tupler\n",
    "Tupler er datasamlinger som ikke kan endres. De lages med vanlige parenteser.\n",
    "### Oppgave 8\n",
    "\n",
    "I denne oppgave er `tuples` en liste av tupler av typen `string`. Hver tuppel i `tuples` er på formen `(venstre, høyre)`. Fullfør koden under slik at hele lista `tuples` printes ut."
   ]
  },
  {
   "cell_type": "code",
   "execution_count": 9,
   "metadata": {},
   "outputs": [
    {
     "name": "stdout",
     "output_type": "stream",
     "text": [
      "  _____ _____\n",
      " / ___   ___ \\\n",
      "/ / @ \\ / @ \\ \\\n",
      "\\ \\___/ \\___/ /\n",
      " \\____\\ /____/\n",
      " /      /\\\\\\\\\\\n",
      "|       |\\\\\\\\\\\\\n",
      " \\       \\\\\\\\\\\\\n",
      "  \\____ ___/\\\\\\\n",
      "    _|| _||_\n"
     ]
    }
   ],
   "source": [
    "tuples = [('  _____', '_____'), (' / ___ ', ' ___ \\\\'), ('/ / @ \\\\', '/ @ \\\\ \\\\'), ('\\\\ \\\\___/', '\\\\___/ /'), (' \\\\____\\\\', '/____/'), (' /     ', '/\\\\\\\\\\\\\\\\\\\\'), ('|      ', '|\\\\\\\\\\\\\\\\\\\\\\\\'), (' \\\\     ', ' \\\\\\\\\\\\\\\\\\\\\\\\'), ('  \\\\____', '___/\\\\\\\\\\\\'), ('    _||', '_||_')]\n",
    "\n",
    "for i in range(len(tuples)):\n",
    "    venstre = tuples[i][0]\n",
    "    hoyre = tuples[i][1]\n",
    "    print(venstre,hoyre)"
   ]
  },
  {
   "cell_type": "code",
   "execution_count": null,
   "metadata": {},
   "outputs": [],
   "source": []
  }
 ],
 "metadata": {
  "kernelspec": {
   "display_name": "Python 3",
   "language": "python",
   "name": "python3"
  },
  "language_info": {
   "codemirror_mode": {
    "name": "ipython",
    "version": 3
   },
   "file_extension": ".py",
   "mimetype": "text/x-python",
   "name": "python",
   "nbconvert_exporter": "python",
   "pygments_lexer": "ipython3",
   "version": "3.7.3"
  }
 },
 "nbformat": 4,
 "nbformat_minor": 2
}
