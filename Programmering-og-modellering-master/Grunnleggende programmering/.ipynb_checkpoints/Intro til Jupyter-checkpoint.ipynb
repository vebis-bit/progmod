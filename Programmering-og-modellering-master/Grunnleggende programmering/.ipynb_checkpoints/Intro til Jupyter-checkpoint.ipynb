{
 "cells": [
  {
   "cell_type": "markdown",
   "metadata": {},
   "source": [
    "# Intro til Jupyter\n",
    "## Velkommen\n",
    "\n",
    "Dette er en intro til Jupyter Notebook."
   ]
  },
  {
   "cell_type": "code",
   "execution_count": 3,
   "metadata": {},
   "outputs": [
    {
     "data": {
      "image/png": "[encoded data removed]",
      "text/plain": [
       "<Figure size 432x288 with 1 Axes>"
      ]
     },
     "metadata": {
      "needs_background": "light"
     },
     "output_type": "display_data"
    },
    {
     "name": "stdout",
     "output_type": "stream",
     "text": [
      "Yes, vi greide det!\n"
     ]
    }
   ],
   "source": [
    "from pylab import *\n",
    "\n",
    "x = linspace(-5,5)\n",
    "y = x**2\n",
    "plot(x,y)\n",
    "show()\n",
    "print(\"Yes, vi greide det!\")"
   ]
  },
  {
   "cell_type": "markdown",
   "metadata": {},
   "source": [
    "## Tolkning av resultatene\n",
    "\n",
    "Vi ser at resultatene tyder på at vi greide det. Feilkilder: Ingen.\n",
    "\n",
    "\n",
    "## Mattegreier\n",
    "\n",
    "Latex-greier.\n",
    "\n",
    "$\\alpha = \\pi^2$\n",
    "\n",
    "$2H_2 + O_2 \\rightarrow 2H_2O$"
   ]
  },
  {
   "cell_type": "code",
   "execution_count": 4,
   "metadata": {},
   "outputs": [
    {
     "name": "stdout",
     "output_type": "stream",
     "text": [
      "0\n",
      "1\n",
      "2\n",
      "3\n",
      "4\n",
      "5\n",
      "6\n",
      "7\n",
      "8\n",
      "9\n"
     ]
    }
   ],
   "source": [
    "for i in range(10):\n",
    "    print(i)"
   ]
  },
  {
   "cell_type": "code",
   "execution_count": null,
   "metadata": {},
   "outputs": [],
   "source": []
  }
 ],
 "metadata": {
  "kernelspec": {
   "display_name": "Python 3",
   "language": "python",
   "name": "python3"
  },
  "language_info": {
   "codemirror_mode": {
    "name": "ipython",
    "version": 3
   },
   "file_extension": ".py",
   "mimetype": "text/x-python",
   "name": "python",
   "nbconvert_exporter": "python",
   "pygments_lexer": "ipython3",
   "version": "3.7.3"
  }
 },
 "nbformat": 4,
 "nbformat_minor": 2
}
