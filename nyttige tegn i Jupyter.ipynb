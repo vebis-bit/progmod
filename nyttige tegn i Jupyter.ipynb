{
 "cells": [
  {
   "cell_type": "markdown",
   "metadata": {},
   "source": [
    "# Nyttige tegn i jupyter\n",
    "\n",
    "kode skrives i mellom dollar tegn -> $h+5$\n",
    "\n",
    "for å få nedsenktede bokstaver understrek -> $H_2$\n",
    "\n",
    "for opphaøyde tall og bokstaver pil opp -> $4^3$\n",
    "\n",
    "man bruker {} for å gruppere utrykk -> 2^{3+5}\n",
    "\n",
    "spessialtegn lages med \\ -> $\\lim , \\alpha , \\to$\n",
    "\n",
    "for å få brøk \\frac{teller}{nevner} -> $\\frac{5}{4}$\n"
   ]
  },
  {
   "cell_type": "code",
   "execution_count": null,
   "metadata": {},
   "outputs": [],
   "source": []
  }
 ],
 "metadata": {
  "kernelspec": {
   "display_name": "Python 3",
   "language": "python",
   "name": "python3"
  },
  "language_info": {
   "codemirror_mode": {
    "name": "ipython",
    "version": 3
   },
   "file_extension": ".py",
   "mimetype": "text/x-python",
   "name": "python",
   "nbconvert_exporter": "python",
   "pygments_lexer": "ipython3",
   "version": "3.7.4"
  }
 },
 "nbformat": 4,
 "nbformat_minor": 2
}
