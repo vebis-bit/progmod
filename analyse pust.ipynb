{
 "cells": [
  {
   "cell_type": "markdown",
   "metadata": {},
   "source": [
    "# Oppgaver om pust\n",
    "\n",
    "### Hva er pust?\n",
    "Pust er luft i bevegelse. Det er også en type bølger, nemlig trykkbølger og kan derfor måles i hertz som vil si svigninger per sekund. Når man puster trekker man luft ut og inn av lungene.\n",
    "\n",
    "### Respirasjonsinduktanspletysmografi\n",
    "\n",
    "Respirasjonsinduktanspletysmografi er en måte å evaluere og måle pust ved å måle bevegelse i bryst og mellomgulv.\n",
    "\n",
    "# Datahåndtering og numerisk metode\n",
    "\n"
   ]
  }
 ],
 "metadata": {
  "kernelspec": {
   "display_name": "Python 3",
   "language": "python",
   "name": "python3"
  },
  "language_info": {
   "codemirror_mode": {
    "name": "ipython",
    "version": 3
   },
   "file_extension": ".py",
   "mimetype": "text/x-python",
   "name": "python",
   "nbconvert_exporter": "python",
   "pygments_lexer": "ipython3",
   "version": "3.7.4"
  }
 },
 "nbformat": 4,
 "nbformat_minor": 2
}
